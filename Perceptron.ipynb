{
  "cells": [
    {
      "cell_type": "code",
      "execution_count": null,
      "metadata": {
        "id": "VhoY8C6aa5HT"
      },
      "outputs": [],
      "source": [
        " ### Import packages\n",
        "\n",
        "import numpy as np\n",
        "import matplotlib.pyplot as plt\n",
        "from sklearn.datasets import load_iris"
      ]
    },
    {
      "cell_type": "code",
      "execution_count": null,
      "metadata": {
        "colab": {
          "base_uri": "https://localhost:8080/"
        },
        "id": "d5HcWRp0a5HX",
        "outputId": "44075929-36d4-492e-8c47-f68158d7ccce"
      },
      "outputs": [
        {
          "output_type": "execute_result",
          "data": {
            "text/plain": [
              "{'data': array([[5.1, 3.5, 1.4, 0.2],\n",
              "        [4.9, 3. , 1.4, 0.2],\n",
              "        [4.7, 3.2, 1.3, 0.2],\n",
              "        [4.6, 3.1, 1.5, 0.2],\n",
              "        [5. , 3.6, 1.4, 0.2],\n",
              "        [5.4, 3.9, 1.7, 0.4],\n",
              "        [4.6, 3.4, 1.4, 0.3],\n",
              "        [5. , 3.4, 1.5, 0.2],\n",
              "        [4.4, 2.9, 1.4, 0.2],\n",
              "        [4.9, 3.1, 1.5, 0.1],\n",
              "        [5.4, 3.7, 1.5, 0.2],\n",
              "        [4.8, 3.4, 1.6, 0.2],\n",
              "        [4.8, 3. , 1.4, 0.1],\n",
              "        [4.3, 3. , 1.1, 0.1],\n",
              "        [5.8, 4. , 1.2, 0.2],\n",
              "        [5.7, 4.4, 1.5, 0.4],\n",
              "        [5.4, 3.9, 1.3, 0.4],\n",
              "        [5.1, 3.5, 1.4, 0.3],\n",
              "        [5.7, 3.8, 1.7, 0.3],\n",
              "        [5.1, 3.8, 1.5, 0.3],\n",
              "        [5.4, 3.4, 1.7, 0.2],\n",
              "        [5.1, 3.7, 1.5, 0.4],\n",
              "        [4.6, 3.6, 1. , 0.2],\n",
              "        [5.1, 3.3, 1.7, 0.5],\n",
              "        [4.8, 3.4, 1.9, 0.2],\n",
              "        [5. , 3. , 1.6, 0.2],\n",
              "        [5. , 3.4, 1.6, 0.4],\n",
              "        [5.2, 3.5, 1.5, 0.2],\n",
              "        [5.2, 3.4, 1.4, 0.2],\n",
              "        [4.7, 3.2, 1.6, 0.2],\n",
              "        [4.8, 3.1, 1.6, 0.2],\n",
              "        [5.4, 3.4, 1.5, 0.4],\n",
              "        [5.2, 4.1, 1.5, 0.1],\n",
              "        [5.5, 4.2, 1.4, 0.2],\n",
              "        [4.9, 3.1, 1.5, 0.2],\n",
              "        [5. , 3.2, 1.2, 0.2],\n",
              "        [5.5, 3.5, 1.3, 0.2],\n",
              "        [4.9, 3.6, 1.4, 0.1],\n",
              "        [4.4, 3. , 1.3, 0.2],\n",
              "        [5.1, 3.4, 1.5, 0.2],\n",
              "        [5. , 3.5, 1.3, 0.3],\n",
              "        [4.5, 2.3, 1.3, 0.3],\n",
              "        [4.4, 3.2, 1.3, 0.2],\n",
              "        [5. , 3.5, 1.6, 0.6],\n",
              "        [5.1, 3.8, 1.9, 0.4],\n",
              "        [4.8, 3. , 1.4, 0.3],\n",
              "        [5.1, 3.8, 1.6, 0.2],\n",
              "        [4.6, 3.2, 1.4, 0.2],\n",
              "        [5.3, 3.7, 1.5, 0.2],\n",
              "        [5. , 3.3, 1.4, 0.2],\n",
              "        [7. , 3.2, 4.7, 1.4],\n",
              "        [6.4, 3.2, 4.5, 1.5],\n",
              "        [6.9, 3.1, 4.9, 1.5],\n",
              "        [5.5, 2.3, 4. , 1.3],\n",
              "        [6.5, 2.8, 4.6, 1.5],\n",
              "        [5.7, 2.8, 4.5, 1.3],\n",
              "        [6.3, 3.3, 4.7, 1.6],\n",
              "        [4.9, 2.4, 3.3, 1. ],\n",
              "        [6.6, 2.9, 4.6, 1.3],\n",
              "        [5.2, 2.7, 3.9, 1.4],\n",
              "        [5. , 2. , 3.5, 1. ],\n",
              "        [5.9, 3. , 4.2, 1.5],\n",
              "        [6. , 2.2, 4. , 1. ],\n",
              "        [6.1, 2.9, 4.7, 1.4],\n",
              "        [5.6, 2.9, 3.6, 1.3],\n",
              "        [6.7, 3.1, 4.4, 1.4],\n",
              "        [5.6, 3. , 4.5, 1.5],\n",
              "        [5.8, 2.7, 4.1, 1. ],\n",
              "        [6.2, 2.2, 4.5, 1.5],\n",
              "        [5.6, 2.5, 3.9, 1.1],\n",
              "        [5.9, 3.2, 4.8, 1.8],\n",
              "        [6.1, 2.8, 4. , 1.3],\n",
              "        [6.3, 2.5, 4.9, 1.5],\n",
              "        [6.1, 2.8, 4.7, 1.2],\n",
              "        [6.4, 2.9, 4.3, 1.3],\n",
              "        [6.6, 3. , 4.4, 1.4],\n",
              "        [6.8, 2.8, 4.8, 1.4],\n",
              "        [6.7, 3. , 5. , 1.7],\n",
              "        [6. , 2.9, 4.5, 1.5],\n",
              "        [5.7, 2.6, 3.5, 1. ],\n",
              "        [5.5, 2.4, 3.8, 1.1],\n",
              "        [5.5, 2.4, 3.7, 1. ],\n",
              "        [5.8, 2.7, 3.9, 1.2],\n",
              "        [6. , 2.7, 5.1, 1.6],\n",
              "        [5.4, 3. , 4.5, 1.5],\n",
              "        [6. , 3.4, 4.5, 1.6],\n",
              "        [6.7, 3.1, 4.7, 1.5],\n",
              "        [6.3, 2.3, 4.4, 1.3],\n",
              "        [5.6, 3. , 4.1, 1.3],\n",
              "        [5.5, 2.5, 4. , 1.3],\n",
              "        [5.5, 2.6, 4.4, 1.2],\n",
              "        [6.1, 3. , 4.6, 1.4],\n",
              "        [5.8, 2.6, 4. , 1.2],\n",
              "        [5. , 2.3, 3.3, 1. ],\n",
              "        [5.6, 2.7, 4.2, 1.3],\n",
              "        [5.7, 3. , 4.2, 1.2],\n",
              "        [5.7, 2.9, 4.2, 1.3],\n",
              "        [6.2, 2.9, 4.3, 1.3],\n",
              "        [5.1, 2.5, 3. , 1.1],\n",
              "        [5.7, 2.8, 4.1, 1.3],\n",
              "        [6.3, 3.3, 6. , 2.5],\n",
              "        [5.8, 2.7, 5.1, 1.9],\n",
              "        [7.1, 3. , 5.9, 2.1],\n",
              "        [6.3, 2.9, 5.6, 1.8],\n",
              "        [6.5, 3. , 5.8, 2.2],\n",
              "        [7.6, 3. , 6.6, 2.1],\n",
              "        [4.9, 2.5, 4.5, 1.7],\n",
              "        [7.3, 2.9, 6.3, 1.8],\n",
              "        [6.7, 2.5, 5.8, 1.8],\n",
              "        [7.2, 3.6, 6.1, 2.5],\n",
              "        [6.5, 3.2, 5.1, 2. ],\n",
              "        [6.4, 2.7, 5.3, 1.9],\n",
              "        [6.8, 3. , 5.5, 2.1],\n",
              "        [5.7, 2.5, 5. , 2. ],\n",
              "        [5.8, 2.8, 5.1, 2.4],\n",
              "        [6.4, 3.2, 5.3, 2.3],\n",
              "        [6.5, 3. , 5.5, 1.8],\n",
              "        [7.7, 3.8, 6.7, 2.2],\n",
              "        [7.7, 2.6, 6.9, 2.3],\n",
              "        [6. , 2.2, 5. , 1.5],\n",
              "        [6.9, 3.2, 5.7, 2.3],\n",
              "        [5.6, 2.8, 4.9, 2. ],\n",
              "        [7.7, 2.8, 6.7, 2. ],\n",
              "        [6.3, 2.7, 4.9, 1.8],\n",
              "        [6.7, 3.3, 5.7, 2.1],\n",
              "        [7.2, 3.2, 6. , 1.8],\n",
              "        [6.2, 2.8, 4.8, 1.8],\n",
              "        [6.1, 3. , 4.9, 1.8],\n",
              "        [6.4, 2.8, 5.6, 2.1],\n",
              "        [7.2, 3. , 5.8, 1.6],\n",
              "        [7.4, 2.8, 6.1, 1.9],\n",
              "        [7.9, 3.8, 6.4, 2. ],\n",
              "        [6.4, 2.8, 5.6, 2.2],\n",
              "        [6.3, 2.8, 5.1, 1.5],\n",
              "        [6.1, 2.6, 5.6, 1.4],\n",
              "        [7.7, 3. , 6.1, 2.3],\n",
              "        [6.3, 3.4, 5.6, 2.4],\n",
              "        [6.4, 3.1, 5.5, 1.8],\n",
              "        [6. , 3. , 4.8, 1.8],\n",
              "        [6.9, 3.1, 5.4, 2.1],\n",
              "        [6.7, 3.1, 5.6, 2.4],\n",
              "        [6.9, 3.1, 5.1, 2.3],\n",
              "        [5.8, 2.7, 5.1, 1.9],\n",
              "        [6.8, 3.2, 5.9, 2.3],\n",
              "        [6.7, 3.3, 5.7, 2.5],\n",
              "        [6.7, 3. , 5.2, 2.3],\n",
              "        [6.3, 2.5, 5. , 1.9],\n",
              "        [6.5, 3. , 5.2, 2. ],\n",
              "        [6.2, 3.4, 5.4, 2.3],\n",
              "        [5.9, 3. , 5.1, 1.8]]),\n",
              " 'target': array([0, 0, 0, 0, 0, 0, 0, 0, 0, 0, 0, 0, 0, 0, 0, 0, 0, 0, 0, 0, 0, 0,\n",
              "        0, 0, 0, 0, 0, 0, 0, 0, 0, 0, 0, 0, 0, 0, 0, 0, 0, 0, 0, 0, 0, 0,\n",
              "        0, 0, 0, 0, 0, 0, 1, 1, 1, 1, 1, 1, 1, 1, 1, 1, 1, 1, 1, 1, 1, 1,\n",
              "        1, 1, 1, 1, 1, 1, 1, 1, 1, 1, 1, 1, 1, 1, 1, 1, 1, 1, 1, 1, 1, 1,\n",
              "        1, 1, 1, 1, 1, 1, 1, 1, 1, 1, 1, 1, 2, 2, 2, 2, 2, 2, 2, 2, 2, 2,\n",
              "        2, 2, 2, 2, 2, 2, 2, 2, 2, 2, 2, 2, 2, 2, 2, 2, 2, 2, 2, 2, 2, 2,\n",
              "        2, 2, 2, 2, 2, 2, 2, 2, 2, 2, 2, 2, 2, 2, 2, 2, 2, 2]),\n",
              " 'frame': None,\n",
              " 'target_names': array(['setosa', 'versicolor', 'virginica'], dtype='<U10'),\n",
              " 'DESCR': '.. _iris_dataset:\\n\\nIris plants dataset\\n--------------------\\n\\n**Data Set Characteristics:**\\n\\n    :Number of Instances: 150 (50 in each of three classes)\\n    :Number of Attributes: 4 numeric, predictive attributes and the class\\n    :Attribute Information:\\n        - sepal length in cm\\n        - sepal width in cm\\n        - petal length in cm\\n        - petal width in cm\\n        - class:\\n                - Iris-Setosa\\n                - Iris-Versicolour\\n                - Iris-Virginica\\n                \\n    :Summary Statistics:\\n\\n    ============== ==== ==== ======= ===== ====================\\n                    Min  Max   Mean    SD   Class Correlation\\n    ============== ==== ==== ======= ===== ====================\\n    sepal length:   4.3  7.9   5.84   0.83    0.7826\\n    sepal width:    2.0  4.4   3.05   0.43   -0.4194\\n    petal length:   1.0  6.9   3.76   1.76    0.9490  (high!)\\n    petal width:    0.1  2.5   1.20   0.76    0.9565  (high!)\\n    ============== ==== ==== ======= ===== ====================\\n\\n    :Missing Attribute Values: None\\n    :Class Distribution: 33.3% for each of 3 classes.\\n    :Creator: R.A. Fisher\\n    :Donor: Michael Marshall (MARSHALL%PLU@io.arc.nasa.gov)\\n    :Date: July, 1988\\n\\nThe famous Iris database, first used by Sir R.A. Fisher. The dataset is taken\\nfrom Fisher\\'s paper. Note that it\\'s the same as in R, but not as in the UCI\\nMachine Learning Repository, which has two wrong data points.\\n\\nThis is perhaps the best known database to be found in the\\npattern recognition literature.  Fisher\\'s paper is a classic in the field and\\nis referenced frequently to this day.  (See Duda & Hart, for example.)  The\\ndata set contains 3 classes of 50 instances each, where each class refers to a\\ntype of iris plant.  One class is linearly separable from the other 2; the\\nlatter are NOT linearly separable from each other.\\n\\n.. topic:: References\\n\\n   - Fisher, R.A. \"The use of multiple measurements in taxonomic problems\"\\n     Annual Eugenics, 7, Part II, 179-188 (1936); also in \"Contributions to\\n     Mathematical Statistics\" (John Wiley, NY, 1950).\\n   - Duda, R.O., & Hart, P.E. (1973) Pattern Classification and Scene Analysis.\\n     (Q327.D83) John Wiley & Sons.  ISBN 0-471-22361-1.  See page 218.\\n   - Dasarathy, B.V. (1980) \"Nosing Around the Neighborhood: A New System\\n     Structure and Classification Rule for Recognition in Partially Exposed\\n     Environments\".  IEEE Transactions on Pattern Analysis and Machine\\n     Intelligence, Vol. PAMI-2, No. 1, 67-71.\\n   - Gates, G.W. (1972) \"The Reduced Nearest Neighbor Rule\".  IEEE Transactions\\n     on Information Theory, May 1972, 431-433.\\n   - See also: 1988 MLC Proceedings, 54-64.  Cheeseman et al\"s AUTOCLASS II\\n     conceptual clustering system finds 3 classes in the data.\\n   - Many, many more ...',\n",
              " 'feature_names': ['sepal length (cm)',\n",
              "  'sepal width (cm)',\n",
              "  'petal length (cm)',\n",
              "  'petal width (cm)'],\n",
              " 'filename': 'iris.csv',\n",
              " 'data_module': 'sklearn.datasets.data'}"
            ]
          },
          "metadata": {},
          "execution_count": 2
        }
      ],
      "source": [
        "### Import datasets from sklearn.datasets\n",
        "data = load_iris()\n",
        "data"
      ]
    },
    {
      "cell_type": "code",
      "execution_count": null,
      "metadata": {
        "id": "radjgNPta5HX"
      },
      "outputs": [],
      "source": [
        "#### Target \n",
        "\n",
        "target = data.target\n"
      ]
    },
    {
      "cell_type": "code",
      "execution_count": null,
      "metadata": {
        "id": "b4XAj5Rta5HY"
      },
      "outputs": [],
      "source": [
        "### Count the number of uniques values\n",
        "\n",
        "N_= np.unique(target, return_counts=True)"
      ]
    },
    {
      "cell_type": "code",
      "execution_count": null,
      "metadata": {
        "colab": {
          "base_uri": "https://localhost:8080/"
        },
        "id": "SRvdDUEra5HY",
        "outputId": "47809ff3-e35d-4e35-8c00-2bfdc20c2be8"
      },
      "outputs": [
        {
          "output_type": "stream",
          "name": "stdout",
          "text": [
            "the unique values in the targets are (array([0, 1, 2]), array([50, 50, 50]))\n"
          ]
        }
      ],
      "source": [
        "print('the unique values in the targets are', N_)"
      ]
    },
    {
      "cell_type": "code",
      "execution_count": null,
      "metadata": {
        "colab": {
          "base_uri": "https://localhost:8080/"
        },
        "id": "l4qtWQzna5HZ",
        "outputId": "ec0bfde8-7751-4188-fd7a-39d481b7cb93"
      },
      "outputs": [
        {
          "output_type": "execute_result",
          "data": {
            "text/plain": [
              "(150,)"
            ]
          },
          "metadata": {},
          "execution_count": 6
        }
      ],
      "source": [
        "target.shape"
      ]
    },
    {
      "cell_type": "markdown",
      "metadata": {
        "id": "zRTrdYYvmfmO"
      },
      "source": [
        "## Remove the class 2 in our dataset in order to have a binary classification problem"
      ]
    },
    {
      "cell_type": "code",
      "execution_count": null,
      "metadata": {
        "colab": {
          "base_uri": "https://localhost:8080/"
        },
        "id": "gOL6z-Qqa5Ha",
        "outputId": "ca632b15-9d4a-4984-9b03-224dc4013f96"
      },
      "outputs": [
        {
          "output_type": "execute_result",
          "data": {
            "text/plain": [
              "array([0, 0, 0, 0, 0, 0, 0, 0, 0, 0, 0, 0, 0, 0, 0, 0, 0, 0, 0, 0, 0, 0,\n",
              "       0, 0, 0, 0, 0, 0, 0, 0, 0, 0, 0, 0, 0, 0, 0, 0, 0, 0, 0, 0, 0, 0,\n",
              "       0, 0, 0, 0, 0, 0, 1, 1, 1, 1, 1, 1, 1, 1, 1, 1, 1, 1, 1, 1, 1, 1,\n",
              "       1, 1, 1, 1, 1, 1, 1, 1, 1, 1, 1, 1, 1, 1, 1, 1, 1, 1, 1, 1, 1, 1,\n",
              "       1, 1, 1, 1, 1, 1, 1, 1, 1, 1, 1, 1])"
            ]
          },
          "metadata": {},
          "execution_count": 7
        }
      ],
      "source": [
        "#### Transforms target to binary classification problem\n",
        "## your code\n",
        "y = target[target!=2]\n",
        "y"
      ]
    },
    {
      "cell_type": "code",
      "execution_count": null,
      "metadata": {
        "colab": {
          "base_uri": "https://localhost:8080/"
        },
        "id": "QRFOsXyQa5Ha",
        "outputId": "454df141-e47b-4d05-9b3f-132ed479f636"
      },
      "outputs": [
        {
          "output_type": "execute_result",
          "data": {
            "text/plain": [
              "(100,)"
            ]
          },
          "metadata": {},
          "execution_count": 8
        }
      ],
      "source": [
        "y.shape"
      ]
    },
    {
      "cell_type": "markdown",
      "metadata": {
        "id": "oX_AtTDnm_7v"
      },
      "source": [
        "## Replace all 0 in the target by -1 using numpy"
      ]
    },
    {
      "cell_type": "code",
      "execution_count": null,
      "metadata": {
        "id": "dfeM2mVta5Hb"
      },
      "outputs": [],
      "source": [
        "###using np.where\n",
        "y = np.where(y==0,-1,y)"
      ]
    },
    {
      "cell_type": "code",
      "execution_count": null,
      "metadata": {
        "colab": {
          "base_uri": "https://localhost:8080/"
        },
        "id": "M1g4Vb4za5Hb",
        "outputId": "d8fb6dca-b5c4-4798-da6a-e95d51cfaf88"
      },
      "outputs": [
        {
          "data": {
            "text/plain": [
              "array([-1, -1, -1, -1, -1, -1, -1, -1, -1, -1, -1, -1, -1, -1, -1, -1, -1,\n",
              "       -1, -1, -1, -1, -1, -1, -1, -1, -1, -1, -1, -1, -1, -1, -1, -1, -1,\n",
              "       -1, -1, -1, -1, -1, -1, -1, -1, -1, -1, -1, -1, -1, -1, -1, -1,  1,\n",
              "        1,  1,  1,  1,  1,  1,  1,  1,  1,  1,  1,  1,  1,  1,  1,  1,  1,\n",
              "        1,  1,  1,  1,  1,  1,  1,  1,  1,  1,  1,  1,  1,  1,  1,  1,  1,\n",
              "        1,  1,  1,  1,  1,  1,  1,  1,  1,  1,  1,  1,  1,  1,  1])"
            ]
          },
          "execution_count": 123,
          "metadata": {},
          "output_type": "execute_result"
        }
      ],
      "source": [
        "y"
      ]
    },
    {
      "cell_type": "markdown",
      "metadata": {
        "id": "Gw2n99F1nFu2"
      },
      "source": [
        "## Get the input data"
      ]
    },
    {
      "cell_type": "code",
      "execution_count": null,
      "metadata": {
        "id": "Zj8C-cD_a5Hb"
      },
      "outputs": [],
      "source": [
        "### Inputs values\n",
        "Inputs = data.data"
      ]
    },
    {
      "cell_type": "code",
      "execution_count": null,
      "metadata": {
        "colab": {
          "base_uri": "https://localhost:8080/"
        },
        "id": "PMF4LKb_a5Hc",
        "outputId": "edf10757-e4a9-4301-8d97-fda387346d26"
      },
      "outputs": [
        {
          "output_type": "execute_result",
          "data": {
            "text/plain": [
              "(150, 4)"
            ]
          },
          "metadata": {},
          "execution_count": 11
        }
      ],
      "source": [
        "Inputs.shape"
      ]
    },
    {
      "cell_type": "markdown",
      "metadata": {
        "id": "5p9a21CA-V1l"
      },
      "source": [
        "## for simplicity let's keep only two features (columns) (`sepal width` and  `petal width`)"
      ]
    },
    {
      "cell_type": "code",
      "execution_count": null,
      "metadata": {
        "id": "IY4M5poQ6EcU"
      },
      "outputs": [],
      "source": [
        "Inputs = np.hstack([Inputs[:, 1].reshape(-1, 1), Inputs[:, 3].reshape(-1, 1)])"
      ]
    },
    {
      "cell_type": "code",
      "execution_count": null,
      "metadata": {
        "colab": {
          "base_uri": "https://localhost:8080/"
        },
        "id": "BfvL2AY17FPB",
        "outputId": "2761151f-3127-40e6-8124-f0519f69788e"
      },
      "outputs": [
        {
          "output_type": "execute_result",
          "data": {
            "text/plain": [
              "array([3.5, 0.2])"
            ]
          },
          "metadata": {},
          "execution_count": 13
        }
      ],
      "source": [
        "Inputs[0]"
      ]
    },
    {
      "cell_type": "markdown",
      "metadata": {
        "id": "v5BsStFCniFJ"
      },
      "source": [
        "## Let's remove the last 50 rows in the inputs data (they belong to the class 2)"
      ]
    },
    {
      "cell_type": "code",
      "execution_count": null,
      "metadata": {
        "id": "y3xruEHZa5Hc"
      },
      "outputs": [],
      "source": [
        "#### New Inputs\n",
        "\n",
        "X = Inputs[:100,:]"
      ]
    },
    {
      "cell_type": "code",
      "execution_count": null,
      "metadata": {
        "colab": {
          "base_uri": "https://localhost:8080/",
          "height": 283
        },
        "id": "AjWhFZH9BHyi",
        "outputId": "008ad06f-25d9-4d10-ae74-0fff457878d2"
      },
      "outputs": [
        {
          "output_type": "execute_result",
          "data": {
            "text/plain": [
              "<matplotlib.collections.PathCollection at 0x7f122937d3d0>"
            ]
          },
          "metadata": {},
          "execution_count": 15
        },
        {
          "output_type": "display_data",
          "data": {
            "text/plain": [
              "<Figure size 432x288 with 1 Axes>"
            ],
            "image/png": "[encoded data removed]"
          },
          "metadata": {
            "needs_background": "light"
          }
        }
      ],
      "source": [
        "plt.scatter(X[:, 1], y)\n",
        "#PLOT one dimension"
      ]
    },
    {
      "cell_type": "markdown",
      "metadata": {
        "id": "ZvYJOFgxnuD6"
      },
      "source": [
        "## Combines the dataset and Shuffle them using numpy"
      ]
    },
    {
      "cell_type": "code",
      "execution_count": null,
      "metadata": {
        "id": "-2LXYdI4a5Hd"
      },
      "outputs": [],
      "source": [
        "### Combines the dataset and Shuffle them\n",
        "\n",
        "dataset = np.hstack((X,y.reshape(-1,1)))\n"
      ]
    },
    {
      "cell_type": "code",
      "execution_count": null,
      "metadata": {
        "colab": {
          "base_uri": "https://localhost:8080/"
        },
        "id": "3EIUzEvA7ffe",
        "outputId": "80e01575-d06c-4745-c3a4-acc2886b8e8c"
      },
      "outputs": [
        {
          "data": {
            "text/plain": [
              "array([ 3.5,  0.2, -1. ])"
            ]
          },
          "execution_count": 137,
          "metadata": {},
          "output_type": "execute_result"
        }
      ],
      "source": [
        "dataset[0]"
      ]
    },
    {
      "cell_type": "code",
      "execution_count": null,
      "metadata": {
        "id": "Lz55VlPwa5Hd"
      },
      "outputs": [],
      "source": [
        "n,_=dataset.shape"
      ]
    },
    {
      "cell_type": "code",
      "execution_count": null,
      "metadata": {
        "id": "YTxsELH1a5He"
      },
      "outputs": [],
      "source": [
        "#### Shuffle the dataset and split\n",
        "perm_index = np.random.permutation(n)\n",
        "perm_index \n",
        "dataset_ = dataset[perm_index]\n",
        "#dataset_ \n",
        "p = 0.8\n",
        "\n",
        "X_train, Y_train = dataset_ [:round(n*p), :-1], dataset_ [:round(n*p), -1]\n",
        "X_test, Y_test = dataset_ [round(n*p):, :-1], dataset_ [round(n*p):, -1]"
      ]
    },
    {
      "cell_type": "code",
      "execution_count": null,
      "metadata": {
        "colab": {
          "base_uri": "https://localhost:8080/"
        },
        "id": "f2SrQK0ra5He",
        "outputId": "711212c6-c480-43f6-9026-432f042db610"
      },
      "outputs": [
        {
          "name": "stdout",
          "output_type": "stream",
          "text": [
            "(80, 2) (20, 2)\n"
          ]
        }
      ],
      "source": [
        "print(X_train.shape , X_test.shape)"
      ]
    },
    {
      "cell_type": "code",
      "execution_count": null,
      "metadata": {
        "colab": {
          "base_uri": "https://localhost:8080/"
        },
        "id": "LQdFxmC4a5Hf",
        "outputId": "01eb5dc9-57a6-4f14-9baa-41b6ef2025fa"
      },
      "outputs": [
        {
          "name": "stdout",
          "output_type": "stream",
          "text": [
            "(80,)\n",
            "(20, 2)\n",
            "(20,)\n"
          ]
        }
      ],
      "source": [
        "print(Y_train.shape)\n",
        "print(X_test.shape)\n",
        "print(Y_test.shape)"
      ]
    },
    {
      "cell_type": "code",
      "execution_count": null,
      "metadata": {
        "colab": {
          "base_uri": "https://localhost:8080/"
        },
        "id": "KLn6h-BG2ZoJ",
        "outputId": "c6d84bdf-53c6-4f84-9f47-31a32ce35c8b"
      },
      "outputs": [
        {
          "data": {
            "text/plain": [
              "array([[ 3.3,  0.5, -1. ],\n",
              "       [ 3. ,  1.7,  1. ],\n",
              "       [ 3.4,  0.2, -1. ],\n",
              "       [ 2.2,  1. ,  1. ],\n",
              "       [ 3.5,  0.2, -1. ],\n",
              "       [ 3. ,  0.2, -1. ],\n",
              "       [ 3.6,  0.2, -1. ],\n",
              "       [ 2.4,  1.1,  1. ],\n",
              "       [ 2.8,  1.3,  1. ],\n",
              "       [ 2. ,  1. ,  1. ],\n",
              "       [ 3.2,  1.4,  1. ],\n",
              "       [ 2.7,  1.3,  1. ],\n",
              "       [ 2.9,  1.3,  1. ],\n",
              "       [ 3.1,  0.1, -1. ],\n",
              "       [ 3. ,  1.4,  1. ],\n",
              "       [ 2.5,  1.5,  1. ],\n",
              "       [ 3.2,  0.2, -1. ],\n",
              "       [ 2.2,  1.5,  1. ],\n",
              "       [ 2.9,  1.3,  1. ],\n",
              "       [ 3.1,  0.2, -1. ],\n",
              "       [ 2.8,  1.3,  1. ],\n",
              "       [ 3.4,  0.2, -1. ],\n",
              "       [ 3.5,  0.3, -1. ],\n",
              "       [ 3.1,  1.5,  1. ],\n",
              "       [ 2.7,  1. ,  1. ],\n",
              "       [ 3.7,  0.4, -1. ],\n",
              "       [ 3.7,  0.2, -1. ],\n",
              "       [ 4.2,  0.2, -1. ],\n",
              "       [ 2.6,  1. ,  1. ],\n",
              "       [ 2.8,  1.2,  1. ],\n",
              "       [ 3. ,  1.2,  1. ],\n",
              "       [ 3. ,  1.3,  1. ],\n",
              "       [ 3.8,  0.3, -1. ],\n",
              "       [ 2.6,  1.2,  1. ],\n",
              "       [ 3. ,  1.4,  1. ],\n",
              "       [ 2.3,  0.3, -1. ],\n",
              "       [ 2.7,  1.4,  1. ],\n",
              "       [ 3.6,  0.2, -1. ],\n",
              "       [ 2.3,  1.3,  1. ],\n",
              "       [ 3.7,  0.2, -1. ],\n",
              "       [ 3. ,  0.1, -1. ],\n",
              "       [ 2.9,  1.3,  1. ],\n",
              "       [ 3.4,  0.2, -1. ],\n",
              "       [ 3.4,  0.4, -1. ],\n",
              "       [ 2.5,  1.1,  1. ],\n",
              "       [ 3.1,  0.2, -1. ],\n",
              "       [ 3.4,  0.2, -1. ],\n",
              "       [ 2.8,  1.4,  1. ],\n",
              "       [ 3.4,  0.4, -1. ],\n",
              "       [ 4. ,  0.2, -1. ],\n",
              "       [ 4.1,  0.1, -1. ],\n",
              "       [ 2.9,  0.2, -1. ],\n",
              "       [ 2.8,  1.3,  1. ],\n",
              "       [ 3.2,  0.2, -1. ],\n",
              "       [ 3.1,  1.4,  1. ],\n",
              "       [ 3.2,  0.2, -1. ],\n",
              "       [ 3.4,  1.6,  1. ],\n",
              "       [ 3.9,  0.4, -1. ],\n",
              "       [ 3.1,  1.5,  1. ],\n",
              "       [ 3. ,  1.5,  1. ],\n",
              "       [ 2.5,  1.3,  1. ],\n",
              "       [ 3.2,  1.5,  1. ],\n",
              "       [ 2.7,  1.2,  1. ],\n",
              "       [ 2.9,  1.3,  1. ],\n",
              "       [ 4.4,  0.4, -1. ],\n",
              "       [ 3.4,  0.3, -1. ],\n",
              "       [ 3. ,  0.1, -1. ],\n",
              "       [ 3.5,  0.6, -1. ],\n",
              "       [ 3. ,  0.2, -1. ],\n",
              "       [ 3.5,  0.3, -1. ],\n",
              "       [ 2.3,  1.3,  1. ],\n",
              "       [ 3. ,  1.5,  1. ],\n",
              "       [ 3.4,  0.2, -1. ],\n",
              "       [ 3.1,  0.2, -1. ],\n",
              "       [ 2.3,  1. ,  1. ],\n",
              "       [ 3. ,  1.5,  1. ],\n",
              "       [ 2.9,  1.3,  1. ],\n",
              "       [ 3. ,  0.2, -1. ],\n",
              "       [ 2.7,  1.6,  1. ],\n",
              "       [ 3.4,  0.2, -1. ],\n",
              "       [ 3.3,  1.6,  1. ],\n",
              "       [ 3.8,  0.3, -1. ],\n",
              "       [ 3.2,  0.2, -1. ],\n",
              "       [ 2.9,  1.5,  1. ],\n",
              "       [ 3.5,  0.2, -1. ],\n",
              "       [ 2.5,  1.1,  1. ],\n",
              "       [ 3.6,  0.1, -1. ],\n",
              "       [ 3.8,  0.4, -1. ],\n",
              "       [ 3.2,  0.2, -1. ],\n",
              "       [ 3.2,  1.8,  1. ],\n",
              "       [ 2.6,  1.2,  1. ],\n",
              "       [ 3. ,  0.3, -1. ],\n",
              "       [ 3.3,  0.2, -1. ],\n",
              "       [ 2.9,  1.4,  1. ],\n",
              "       [ 3.5,  0.2, -1. ],\n",
              "       [ 2.4,  1. ,  1. ],\n",
              "       [ 3.9,  0.4, -1. ],\n",
              "       [ 2.4,  1. ,  1. ],\n",
              "       [ 2.8,  1.5,  1. ],\n",
              "       [ 3.8,  0.2, -1. ]])"
            ]
          },
          "execution_count": 142,
          "metadata": {},
          "output_type": "execute_result"
        }
      ],
      "source": [
        "dataset_"
      ]
    },
    {
      "cell_type": "code",
      "execution_count": null,
      "metadata": {
        "id": "VT7xyoqE3Z2G"
      },
      "outputs": [],
      "source": []
    },
    {
      "cell_type": "code",
      "execution_count": null,
      "metadata": {
        "colab": {
          "background_save": true
        },
        "id": "Fi4m35Q6a5Hh"
      },
      "outputs": [],
      "source": [
        "class perceptron:\n",
        "    \n",
        "    eps = 1e-5\n",
        "    def __init__(self,theta,iter_= 20):\n",
        "        self.iter_ = iter_\n",
        "        self.theta = theta\n",
        "        \n",
        "        \n",
        "    def train(self, X, y):\n",
        "        n,_= X.shape\n",
        "        self.theta= self.theta\n",
        "        for inter in range(20):\n",
        "          for j in range(n):\n",
        "            \n",
        "            ypred = np.sign(self.theta.reshape(-1,1).T@X[j].reshape(-1, 1))\n",
        "            if y*ypred <0:\n",
        "              self.theta = self.theta + y[j]*X[j]\n",
        "            else:\n",
        "              self.theta= self.theta\n",
        "\n",
        "\n",
        "        \n",
        "        return self.theta\n",
        "        \n",
        "                    \n",
        "    def train_(self, X, y):\n",
        "        n,_= X.shape\n",
        "        while True:\n",
        "          self.train(X,y)\n",
        "\n",
        "        return self.theta  \n",
        "    \n",
        "    def predict(self,X):\n",
        "      theta1 = self.theta.reshape(-1,1) - self.eps\n",
        "      return theta1\n",
        "      \n",
        "\n",
        "     \n",
        "    \n",
        "    def accuracy(self,X,Y):\n",
        "      pass #self.accracy= 1 –  #(Number of misclassified samples / Total number of samples).\n",
        "      \n",
        "      return \n",
        "     \n",
        "\n",
        "            "
      ]
    },
    {
      "cell_type": "markdown",
      "metadata": {
        "id": "4BHC2mtA8Fca"
      },
      "source": [
        "## Instanciate a new perceptron model and train it"
      ]
    },
    {
      "cell_type": "code",
      "execution_count": null,
      "metadata": {
        "id": "wcwMg-Jga5Hi"
      },
      "outputs": [],
      "source": [
        "theta = np.random.rand(2)*1e-4\n",
        "perc = perceptron(theta)"
      ]
    },
    {
      "cell_type": "code",
      "execution_count": null,
      "metadata": {
        "colab": {
          "base_uri": "https://localhost:8080/"
        },
        "id": "mcNFxej0a5Hi",
        "outputId": "ff9eb5be-df8e-49b6-ccb8-bf1d944bd832"
      },
      "outputs": [
        {
          "data": {
            "text/plain": [
              "array([1.80096349e-05, 4.96733221e-05])"
            ]
          },
          "execution_count": 166,
          "metadata": {},
          "output_type": "execute_result"
        }
      ],
      "source": [
        "perc.theta"
      ]
    },
    {
      "cell_type": "code",
      "execution_count": null,
      "metadata": {
        "colab": {
          "base_uri": "https://localhost:8080/",
          "height": 318
        },
        "id": "jZquZaUva5Hj",
        "outputId": "c132afe0-1d99-49f4-dcfe-66b8e4537218"
      },
      "outputs": [
        {
          "ename": "ValueError",
          "evalue": "ignored",
          "output_type": "error",
          "traceback": [
            "\u001b[0;31m---------------------------------------------------------------------------\u001b[0m",
            "\u001b[0;31mValueError\u001b[0m                                Traceback (most recent call last)",
            "\u001b[0;32m<ipython-input-167-d43d929a4b5a>\u001b[0m in \u001b[0;36m<module>\u001b[0;34m\u001b[0m\n\u001b[0;32m----> 1\u001b[0;31m \u001b[0mperc\u001b[0m\u001b[0;34m.\u001b[0m\u001b[0mtrain_\u001b[0m\u001b[0;34m(\u001b[0m\u001b[0mX_train\u001b[0m\u001b[0;34m,\u001b[0m \u001b[0mX_train\u001b[0m\u001b[0;34m)\u001b[0m\u001b[0;34m\u001b[0m\u001b[0;34m\u001b[0m\u001b[0m\n\u001b[0m",
            "\u001b[0;32m<ipython-input-164-fc48eee054de>\u001b[0m in \u001b[0;36mtrain_\u001b[0;34m(self, X, y)\u001b[0m\n\u001b[1;32m     27\u001b[0m         \u001b[0mn\u001b[0m\u001b[0;34m,\u001b[0m\u001b[0m_\u001b[0m\u001b[0;34m=\u001b[0m \u001b[0mX\u001b[0m\u001b[0;34m.\u001b[0m\u001b[0mshape\u001b[0m\u001b[0;34m\u001b[0m\u001b[0;34m\u001b[0m\u001b[0m\n\u001b[1;32m     28\u001b[0m         \u001b[0;32mwhile\u001b[0m \u001b[0;32mTrue\u001b[0m\u001b[0;34m:\u001b[0m\u001b[0;34m\u001b[0m\u001b[0;34m\u001b[0m\u001b[0m\n\u001b[0;32m---> 29\u001b[0;31m           \u001b[0mself\u001b[0m\u001b[0;34m.\u001b[0m\u001b[0mtrain\u001b[0m\u001b[0;34m(\u001b[0m\u001b[0mX\u001b[0m\u001b[0;34m,\u001b[0m\u001b[0my\u001b[0m\u001b[0;34m)\u001b[0m\u001b[0;34m\u001b[0m\u001b[0;34m\u001b[0m\u001b[0m\n\u001b[0m\u001b[1;32m     30\u001b[0m \u001b[0;34m\u001b[0m\u001b[0m\n\u001b[1;32m     31\u001b[0m         \u001b[0;32mreturn\u001b[0m \u001b[0mself\u001b[0m\u001b[0;34m.\u001b[0m\u001b[0mtheta\u001b[0m\u001b[0;34m\u001b[0m\u001b[0;34m\u001b[0m\u001b[0m\n",
            "\u001b[0;32m<ipython-input-164-fc48eee054de>\u001b[0m in \u001b[0;36mtrain\u001b[0;34m(self, X, y)\u001b[0m\n\u001b[1;32m     14\u001b[0m \u001b[0;34m\u001b[0m\u001b[0m\n\u001b[1;32m     15\u001b[0m             \u001b[0mypred\u001b[0m \u001b[0;34m=\u001b[0m \u001b[0mnp\u001b[0m\u001b[0;34m.\u001b[0m\u001b[0msign\u001b[0m\u001b[0;34m(\u001b[0m\u001b[0mself\u001b[0m\u001b[0;34m.\u001b[0m\u001b[0mtheta\u001b[0m\u001b[0;34m.\u001b[0m\u001b[0mreshape\u001b[0m\u001b[0;34m(\u001b[0m\u001b[0;34m-\u001b[0m\u001b[0;36m1\u001b[0m\u001b[0;34m,\u001b[0m\u001b[0;36m1\u001b[0m\u001b[0;34m)\u001b[0m\u001b[0;34m.\u001b[0m\u001b[0mT\u001b[0m\u001b[0;34m@\u001b[0m\u001b[0mX\u001b[0m\u001b[0;34m[\u001b[0m\u001b[0mj\u001b[0m\u001b[0;34m]\u001b[0m\u001b[0;34m.\u001b[0m\u001b[0mreshape\u001b[0m\u001b[0;34m(\u001b[0m\u001b[0;34m-\u001b[0m\u001b[0;36m1\u001b[0m\u001b[0;34m,\u001b[0m \u001b[0;36m1\u001b[0m\u001b[0;34m)\u001b[0m\u001b[0;34m)\u001b[0m\u001b[0;34m\u001b[0m\u001b[0;34m\u001b[0m\u001b[0m\n\u001b[0;32m---> 16\u001b[0;31m             \u001b[0;32mif\u001b[0m \u001b[0my\u001b[0m\u001b[0;34m@\u001b[0m\u001b[0mypred\u001b[0m \u001b[0;34m<\u001b[0m\u001b[0;36m0\u001b[0m\u001b[0;34m:\u001b[0m\u001b[0;34m\u001b[0m\u001b[0;34m\u001b[0m\u001b[0m\n\u001b[0m\u001b[1;32m     17\u001b[0m               \u001b[0mself\u001b[0m\u001b[0;34m.\u001b[0m\u001b[0mtheta\u001b[0m \u001b[0;34m=\u001b[0m \u001b[0mself\u001b[0m\u001b[0;34m.\u001b[0m\u001b[0mtheta\u001b[0m \u001b[0;34m+\u001b[0m \u001b[0my\u001b[0m\u001b[0;34m[\u001b[0m\u001b[0mj\u001b[0m\u001b[0;34m]\u001b[0m\u001b[0;34m*\u001b[0m\u001b[0mX\u001b[0m\u001b[0;34m[\u001b[0m\u001b[0mj\u001b[0m\u001b[0;34m]\u001b[0m\u001b[0;34m\u001b[0m\u001b[0;34m\u001b[0m\u001b[0m\n\u001b[1;32m     18\u001b[0m             \u001b[0;32melse\u001b[0m\u001b[0;34m:\u001b[0m\u001b[0;34m\u001b[0m\u001b[0;34m\u001b[0m\u001b[0m\n",
            "\u001b[0;31mValueError\u001b[0m: matmul: Input operand 1 has a mismatch in its core dimension 0, with gufunc signature (n?,k),(k,m?)->(n?,m?) (size 1 is different from 2)"
          ]
        }
      ],
      "source": [
        "perc.train_(X_train, X_train)"
      ]
    },
    {
      "cell_type": "code",
      "execution_count": null,
      "metadata": {
        "colab": {
          "base_uri": "https://localhost:8080/"
        },
        "id": "2Ahsc_l-mn0e",
        "outputId": "fab219a1-ccf7-46cf-9472-6246cea35264"
      },
      "outputs": [
        {
          "data": {
            "text/plain": [
              "array([2.79536540e-05, 7.05307648e-05])"
            ]
          },
          "execution_count": 148,
          "metadata": {},
          "output_type": "execute_result"
        }
      ],
      "source": [
        "perc.theta"
      ]
    },
    {
      "cell_type": "code",
      "execution_count": null,
      "metadata": {
        "colab": {
          "base_uri": "https://localhost:8080/",
          "height": 283
        },
        "id": "1jv9z607rMri",
        "outputId": "4cb63a49-0e29-4e68-fa25-8887fdcd2519"
      },
      "outputs": [
        {
          "data": {
            "text/plain": [
              "[<matplotlib.lines.Line2D at 0x7fc01e44bfa0>]"
            ]
          },
          "execution_count": 149,
          "metadata": {},
          "output_type": "execute_result"
        },
        {
          "data": {
            "image/png": "[encoded data removed]",
            "text/plain": [
              "<Figure size 432x288 with 1 Axes>"
            ]
          },
          "metadata": {},
          "output_type": "display_data"
        }
      ],
      "source": [
        "slope = - perc.theta[0]/perc.theta[1]\n",
        "min = np.amin(X_train[:, 0])\n",
        "max = np.amax(X_train[:, 0])\n",
        "\n",
        "x1 = [min, max]\n",
        "x2 = [slope*min , slope*max]\n",
        "plt.scatter(X_train[:,0], X_train[:, 1], marker=\"o\", c=Y_train)\n",
        "plt.plot(x1, x2)"
      ]
    },
    {
      "cell_type": "markdown",
      "metadata": {
        "id": "Yw0cu87c8lwU"
      },
      "source": [
        "## let's evaluate the model on the training data"
      ]
    },
    {
      "cell_type": "code",
      "execution_count": null,
      "metadata": {
        "colab": {
          "base_uri": "https://localhost:8080/"
        },
        "id": "mrNV3LiUa5Hk",
        "outputId": "01dc3e85-33da-4182-fb7a-51adc4d5b8c4"
      },
      "outputs": [
        {
          "data": {
            "text/plain": [
              "array([[1.79536540e-05],\n",
              "       [6.05307648e-05]])"
            ]
          },
          "execution_count": 150,
          "metadata": {},
          "output_type": "execute_result"
        }
      ],
      "source": [
        "perc.predict(X_test)"
      ]
    },
    {
      "cell_type": "code",
      "execution_count": null,
      "metadata": {
        "colab": {
          "base_uri": "https://localhost:8080/",
          "height": 283
        },
        "id": "FCVy-2CP87Ki",
        "outputId": "e9e4a630-f499-4df7-fca3-a5455cddf25f"
      },
      "outputs": [
        {
          "data": {
            "text/plain": [
              "[<matplotlib.lines.Line2D at 0x7fc01e3c0ca0>]"
            ]
          },
          "execution_count": 151,
          "metadata": {},
          "output_type": "execute_result"
        },
        {
          "data": {
            "image/png": "[encoded data removed]",
            "text/plain": [
              "<Figure size 432x288 with 1 Axes>"
            ]
          },
          "metadata": {},
          "output_type": "display_data"
        }
      ],
      "source": [
        "slope = - perc.theta[0]/perc.theta[1]\n",
        "min = np.amin(X_test[:, 0])\n",
        "max = np.amax(X_test[:, 0])\n",
        "\n",
        "\n",
        "x1 = [min, max]\n",
        "x2 = [slope*min , slope*max]\n",
        "plt.scatter(X_test[:,0], X_test[:, 1], marker=\"o\", c=Y_test)\n",
        "plt.plot(x1, x2)"
      ]
    },
    {
      "cell_type": "code",
      "execution_count": null,
      "metadata": {
        "id": "M_CL5aBBa5Hk"
      },
      "outputs": [],
      "source": [
        "perc.accuracy(X_test, Y_test)"
      ]
    },
    {
      "cell_type": "code",
      "execution_count": null,
      "metadata": {
        "id": "f0uOaofjwfkd"
      },
      "outputs": [],
      "source": []
    }
  ],
  "metadata": {
    "colab": {
      "provenance": []
    },
    "kernelspec": {
      "display_name": "Python 3",
      "language": "python",
      "name": "python3"
    },
    "language_info": {
      "codemirror_mode": {
        "name": "ipython",
        "version": 3
      },
      "file_extension": ".py",
      "mimetype": "text/x-python",
      "name": "python",
      "nbconvert_exporter": "python",
      "pygments_lexer": "ipython3",
      "version": "3.8.5"
    }
  },
  "nbformat": 4,
  "nbformat_minor": 0
}