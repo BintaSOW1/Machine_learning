{
  "nbformat": 4,
  "nbformat_minor": 0,
  "metadata": {
    "colab": {
      "provenance": []
    },
    "kernelspec": {
      "name": "python3",
      "display_name": "Python 3"
    },
    "language_info": {
      "name": "python"
    },
    "widgets": {
      "application/vnd.jupyter.widget-state+json": {
        "6a8c45cac0b14cfca42dd5ee4ca0b087": {
          "model_module": "@jupyter-widgets/controls",
          "model_name": "VBoxModel",
          "model_module_version": "1.5.0",
          "state": {
            "_dom_classes": [
              "widget-interact"
            ],
            "_model_module": "@jupyter-widgets/controls",
            "_model_module_version": "1.5.0",
            "_model_name": "VBoxModel",
            "_view_count": null,
            "_view_module": "@jupyter-widgets/controls",
            "_view_module_version": "1.5.0",
            "_view_name": "VBoxView",
            "box_style": "",
            "children": [
              "IPY_MODEL_b64cba03a13445d49016f157d4cc0b0d",
              "IPY_MODEL_653d8865e6494a02b7b582e51e25058e"
            ],
            "layout": "IPY_MODEL_fcff3f688bb0462b915da5f158dc1ab3"
          }
        },
        "b64cba03a13445d49016f157d4cc0b0d": {
          "model_module": "@jupyter-widgets/controls",
          "model_name": "FloatSliderModel",
          "model_module_version": "1.5.0",
          "state": {
            "_dom_classes": [],
            "_model_module": "@jupyter-widgets/controls",
            "_model_module_version": "1.5.0",
            "_model_name": "FloatSliderModel",
            "_view_count": null,
            "_view_module": "@jupyter-widgets/controls",
            "_view_module_version": "1.5.0",
            "_view_name": "FloatSliderView",
            "continuous_update": true,
            "description": "tau",
            "description_tooltip": null,
            "disabled": false,
            "layout": "IPY_MODEL_f76f316ead194bc8a1ed506a9cf6513b",
            "max": 5,
            "min": 0.1,
            "orientation": "horizontal",
            "readout": true,
            "readout_format": ".2f",
            "step": 0.1,
            "style": "IPY_MODEL_f27958dde1644897b69b6c3fbee309ec",
            "value": 1
          }
        },
        "653d8865e6494a02b7b582e51e25058e": {
          "model_module": "@jupyter-widgets/output",
          "model_name": "OutputModel",
          "model_module_version": "1.0.0",
          "state": {
            "_dom_classes": [],
            "_model_module": "@jupyter-widgets/output",
            "_model_module_version": "1.0.0",
            "_model_name": "OutputModel",
            "_view_count": null,
            "_view_module": "@jupyter-widgets/output",
            "_view_module_version": "1.0.0",
            "_view_name": "OutputView",
            "layout": "IPY_MODEL_91fcbd5d48d94e0f9f1a36ef7014c60a",
            "msg_id": "",
            "outputs": [
              {
                "output_type": "stream",
                "name": "stderr",
                "text": [
                  "/usr/local/lib/python3.9/dist-packages/plotly/graph_objs/_deprecations.py:378: DeprecationWarning: plotly.graph_objs.Line is deprecated.\n",
                  "Please replace it with one of the following more specific types\n",
                  "  - plotly.graph_objs.scatter.Line\n",
                  "  - plotly.graph_objs.layout.shape.Line\n",
                  "  - etc.\n",
                  "\n",
                  "  warnings.warn(\n"
                ]
              },
              {
                "output_type": "display_data",
                "data": {
                  "text/html": "<html>\n<head><meta charset=\"utf-8\" /></head>\n<body>\n    <div>            <script src=\"https://cdnjs.cloudflare.com/ajax/libs/mathjax/2.7.5/MathJax.js?config=TeX-AMS-MML_SVG\"></script><script type=\"text/javascript\">if (window.MathJax) {MathJax.Hub.Config({SVG: {font: \"STIX-Web\"}});}</script>                <script type=\"text/javascript\">window.PlotlyConfig = {MathJaxConfig: 'local'};</script>\n        <script src=\"https://cdn.plot.ly/plotly-2.8.3.min.js\"></script>                <div id=\"b4d484fa-f410-4a9a-a497-4487272075d2\" class=\"plotly-graph-div\" style=\"height:500px; width:500px;\"></div>            <script type=\"text/javascript\">                                    window.PLOTLYENV=window.PLOTLYENV || {};                                    if (document.getElementById(\"b4d484fa-f410-4a9a-a497-4487272075d2\")) {                    Plotly.newPlot(                        \"b4d484fa-f410-4a9a-a497-4487272075d2\",                        [{\"mode\":\"lines\",\"x\":[-10.0,-9.9,-9.8,-9.700000000000001,-9.600000000000001,-9.500000000000002,-9.400000000000002,-9.300000000000002,-9.200000000000003,-9.100000000000003,-9.000000000000004,-8.900000000000004,-8.800000000000004,-8.700000000000005,-8.600000000000005,-8.500000000000005,-8.400000000000006,-8.300000000000006,-8.200000000000006,-8.100000000000007,-8.000000000000007,-7.9000000000000075,-7.800000000000008,-7.700000000000008,-7.6000000000000085,-7.500000000000009,-7.400000000000009,-7.30000000000001,-7.20000000000001,-7.10000000000001,-7.000000000000011,-6.900000000000011,-6.800000000000011,-6.700000000000012,-6.600000000000012,-6.500000000000012,-6.400000000000013,-6.300000000000013,-6.2000000000000135,-6.100000000000014,-6.000000000000014,-5.900000000000015,-5.800000000000015,-5.700000000000015,-5.600000000000016,-5.500000000000016,-5.400000000000016,-5.300000000000017,-5.200000000000017,-5.100000000000017,-5.000000000000018,-4.900000000000018,-4.8000000000000185,-4.700000000000019,-4.600000000000019,-4.5000000000000195,-4.40000000000002,-4.30000000000002,-4.200000000000021,-4.100000000000021,-4.000000000000021,-3.9000000000000217,-3.800000000000022,-3.7000000000000224,-3.6000000000000227,-3.500000000000023,-3.4000000000000234,-3.300000000000024,-3.200000000000024,-3.1000000000000245,-3.000000000000025,-2.9000000000000252,-2.8000000000000256,-2.700000000000026,-2.6000000000000263,-2.5000000000000266,-2.400000000000027,-2.3000000000000274,-2.2000000000000277,-2.100000000000028,-2.0000000000000284,-1.9000000000000288,-1.8000000000000291,-1.7000000000000295,-1.6000000000000298,-1.5000000000000302,-1.4000000000000306,-1.300000000000031,-1.2000000000000313,-1.1000000000000316,-1.000000000000032,-0.9000000000000323,-0.8000000000000327,-0.700000000000033,-0.6000000000000334,-0.5000000000000338,-0.4000000000000341,-0.30000000000003446,-0.20000000000003482,-0.10000000000003517,-3.552713678800501e-14,0.09999999999996412,0.19999999999996376,0.2999999999999634,0.39999999999996305,0.4999999999999627,0.5999999999999623,0.699999999999962,0.7999999999999616,0.8999999999999613,0.9999999999999609,1.0999999999999606,1.1999999999999602,1.2999999999999599,1.3999999999999595,1.4999999999999591,1.5999999999999588,1.6999999999999584,1.799999999999958,1.8999999999999577,1.9999999999999574,2.099999999999957,2.1999999999999567,2.2999999999999563,2.399999999999956,2.4999999999999556,2.5999999999999552,2.699999999999955,2.7999999999999545,2.899999999999954,2.999999999999954,3.0999999999999535,3.199999999999953,3.2999999999999527,3.3999999999999524,3.499999999999952,3.5999999999999517,3.6999999999999513,3.799999999999951,3.8999999999999506,3.9999999999999503,4.09999999999995,4.1999999999999496,4.299999999999949,4.399999999999949,4.4999999999999485,4.599999999999948,4.699999999999948,4.799999999999947,4.899999999999947,4.999999999999947,5.099999999999946,5.199999999999946,5.299999999999946,5.399999999999945,5.499999999999945,5.599999999999945,5.699999999999944,5.799999999999944,5.8999999999999435,5.999999999999943,6.099999999999945,6.1999999999999424,6.29999999999994,6.399999999999942,6.499999999999943,6.599999999999941,6.699999999999939,6.79999999999994,6.899999999999942,6.99999999999994,7.0999999999999375,7.199999999999939,7.29999999999994,7.399999999999938,7.499999999999936,7.5999999999999375,7.699999999999939,7.799999999999937,7.899999999999935,7.999999999999936,8.099999999999937,8.199999999999935,8.299999999999933,8.399999999999935,8.499999999999936,8.599999999999934,8.699999999999932,8.799999999999933,8.899999999999935,8.999999999999932,9.09999999999993,9.199999999999932,9.299999999999933,9.399999999999931,9.499999999999929,9.59999999999993,9.699999999999932,9.79999999999993,9.899999999999928],\"y\":[1.9287498479639178e-22,5.216736662027038e-22,1.3969439431470891e-21,3.7035319776523184e-21,9.720985020300643e-21,2.5261637809256567e-20,6.499347972070755e-20,1.6555226620987275e-19,4.1750100558503957e-19,1.0424061783901304e-18,2.5767571091548894e-18,6.306189893986223e-18,1.5279799682872503e-17,3.665433395600889e-17,8.705426622295879e-17,2.046971713164117e-16,4.765304735298851e-16,1.0983141298285426e-15,2.506221887145132e-15,5.6619955169486286e-15,1.2664165549093456e-14,2.804404738222628e-14,6.148396412704385e-14,1.3345660848219038e-13,2.8679750088879044e-13,6.101936677604913e-13,1.2853372251335588e-12,2.6805476373124164e-12,5.53461007170062e-12,1.1313776200064483e-11,2.289734845645382e-11,4.58796248713895e-11,9.101470764487257e-11,1.7875588711278416e-10,3.4758912812396506e-10,6.691586091292236e-10,1.27540762952594e-09,2.406722436300847e-09,4.496349462280486e-09,8.316702456827624e-09,1.522997974471133e-08,2.7612424568277996e-08,4.956405319172075e-08,8.808179196459807e-08,1.5497531357027618e-07,2.699578503362775e-07,4.6557157157826726e-07,7.949393615348435e-07,1.343812277631402e-06,2.2490559670321426e-06,3.72665317207834e-06,6.113567966370859e-06,9.9295043058502e-06,1.5966783897803327e-05,2.541934651619699e-05,4.006529739294751e-05,6.252150377481481e-05,9.65934137221756e-05,0.0001477483602320208,0.0002237457937206011,0.00033546262790248323,0.0004979554215032314,0.000731802418880411,0.0010647662366678316,0.0015338106793243377,0.002187491118182708,0.0030887154082365246,0.004317840007632741,0.005976022895005481,0.008188701014373457,0.011108996538241477,0.014920786069066756,0.01984109474436887,0.0261214098539164,0.03404745473459702,0.04393693362340449,0.05613476283413009,0.0710053537396325,0.08892161745938093,0.11025052530447871,0.135335283236605,0.16447445657714588,0.1978986990836043,0.23574607655585172,0.27803730045318087,0.32465246735833503,0.37531109885138353,0.4295573582107219,0.4867522559599534,0.5460744266396904,0.606530659712614,0.666976810858455,0.726149037073672,0.78270453824185,0.8352702114112552,0.8824969025845805,0.9231163463866232,0.9559974818330901,0.9801986733067485,0.9950124791926788,1.0,0.9950124791926859,0.9801986733067624,0.9559974818331104,0.9231163463866494,0.8824969025846119,0.8352702114112909,0.782704538241889,0.7261490370737133,0.6669768108584976,0.6065306597126571,0.5460744266397332,0.4867522559599949,0.4295573582107616,0.37531109885142083,0.3246524673583696,0.27803730045321245,0.2357460765558802,0.1978986990836296,0.16447445657716808,0.13533528323662422,0.11025052530449515,0.08892161745939484,0.0710053537396441,0.05613476283413966,0.0439369336234123,0.03404745473460331,0.02612140985392141,0.019841094744372817,0.01492078606906983,0.011108996538243847,0.008188701014375261,0.00597602289500684,0.004317840007633753,0.003088715408237271,0.0021874911181832524,0.0015338106793247302,0.0010647662366681115,0.0007318024188806086,0.0004979554215033694,0.0003354626279025786,0.00022374579372066625,0.00014774836023206486,9.659341372220511e-05,6.252150377483437e-05,4.006529739296032e-05,2.54193465162053e-05,1.596678389780866e-05,9.929504305853587e-06,6.113567966372988e-06,3.726653172079664e-06,2.249055967032958e-06,1.3438122776318986e-06,7.949393615351428e-07,4.6557157157844593e-07,2.6995785033638294e-07,1.5497531357033785e-07,8.808179196463373e-08,4.956405319174118e-08,2.761242456828957e-08,1.5229979744717824e-08,8.31670245683114e-09,4.496349462282467e-09,2.4067224363019582e-09,1.2754076295265198e-09,6.691586091295255e-10,3.4758912812412807e-10,1.7875588711287114e-10,9.101470764491654e-11,4.587962487141134e-11,2.289734845646521e-11,1.1313776200070312e-11,5.534610071703452e-12,2.6805476373137783e-12,1.2853372251342348e-12,6.101936677608251e-13,2.867975008889453e-13,1.3345660848226152e-13,6.148396412707793e-14,2.804404738224242e-14,1.2664165549100655e-14,5.661995516951807e-15,2.5062218871465923e-15,1.0983141298292058e-15,4.765304735301695e-16,2.0469717131653097e-16,8.705426622301198e-17,3.665433395603207e-17,1.527979968288206e-17,6.306189893990077e-18,2.5767571091565372e-18,1.0424061783908193e-18,4.175010055853125e-19,1.6555226620997978e-19,6.499347972075095e-20,2.526163780927398e-20,9.720985020307274e-21,3.703531977654792e-21,1.3969439431480619e-21,5.216736662030781e-22],\"type\":\"scatter\"}],                        {\"template\":{\"data\":{\"bar\":[{\"error_x\":{\"color\":\"#2a3f5f\"},\"error_y\":{\"color\":\"#2a3f5f\"},\"marker\":{\"line\":{\"color\":\"#E5ECF6\",\"width\":0.5},\"pattern\":{\"fillmode\":\"overlay\",\"size\":10,\"solidity\":0.2}},\"type\":\"bar\"}],\"barpolar\":[{\"marker\":{\"line\":{\"color\":\"#E5ECF6\",\"width\":0.5},\"pattern\":{\"fillmode\":\"overlay\",\"size\":10,\"solidity\":0.2}},\"type\":\"barpolar\"}],\"carpet\":[{\"aaxis\":{\"endlinecolor\":\"#2a3f5f\",\"gridcolor\":\"white\",\"linecolor\":\"white\",\"minorgridcolor\":\"white\",\"startlinecolor\":\"#2a3f5f\"},\"baxis\":{\"endlinecolor\":\"#2a3f5f\",\"gridcolor\":\"white\",\"linecolor\":\"white\",\"minorgridcolor\":\"white\",\"startlinecolor\":\"#2a3f5f\"},\"type\":\"carpet\"}],\"choropleth\":[{\"colorbar\":{\"outlinewidth\":0,\"ticks\":\"\"},\"type\":\"choropleth\"}],\"contour\":[{\"colorbar\":{\"outlinewidth\":0,\"ticks\":\"\"},\"colorscale\":[[0.0,\"#0d0887\"],[0.1111111111111111,\"#46039f\"],[0.2222222222222222,\"#7201a8\"],[0.3333333333333333,\"#9c179e\"],[0.4444444444444444,\"#bd3786\"],[0.5555555555555556,\"#d8576b\"],[0.6666666666666666,\"#ed7953\"],[0.7777777777777778,\"#fb9f3a\"],[0.8888888888888888,\"#fdca26\"],[1.0,\"#f0f921\"]],\"type\":\"contour\"}],\"contourcarpet\":[{\"colorbar\":{\"outlinewidth\":0,\"ticks\":\"\"},\"type\":\"contourcarpet\"}],\"heatmap\":[{\"colorbar\":{\"outlinewidth\":0,\"ticks\":\"\"},\"colorscale\":[[0.0,\"#0d0887\"],[0.1111111111111111,\"#46039f\"],[0.2222222222222222,\"#7201a8\"],[0.3333333333333333,\"#9c179e\"],[0.4444444444444444,\"#bd3786\"],[0.5555555555555556,\"#d8576b\"],[0.6666666666666666,\"#ed7953\"],[0.7777777777777778,\"#fb9f3a\"],[0.8888888888888888,\"#fdca26\"],[1.0,\"#f0f921\"]],\"type\":\"heatmap\"}],\"heatmapgl\":[{\"colorbar\":{\"outlinewidth\":0,\"ticks\":\"\"},\"colorscale\":[[0.0,\"#0d0887\"],[0.1111111111111111,\"#46039f\"],[0.2222222222222222,\"#7201a8\"],[0.3333333333333333,\"#9c179e\"],[0.4444444444444444,\"#bd3786\"],[0.5555555555555556,\"#d8576b\"],[0.6666666666666666,\"#ed7953\"],[0.7777777777777778,\"#fb9f3a\"],[0.8888888888888888,\"#fdca26\"],[1.0,\"#f0f921\"]],\"type\":\"heatmapgl\"}],\"histogram\":[{\"marker\":{\"pattern\":{\"fillmode\":\"overlay\",\"size\":10,\"solidity\":0.2}},\"type\":\"histogram\"}],\"histogram2d\":[{\"colorbar\":{\"outlinewidth\":0,\"ticks\":\"\"},\"colorscale\":[[0.0,\"#0d0887\"],[0.1111111111111111,\"#46039f\"],[0.2222222222222222,\"#7201a8\"],[0.3333333333333333,\"#9c179e\"],[0.4444444444444444,\"#bd3786\"],[0.5555555555555556,\"#d8576b\"],[0.6666666666666666,\"#ed7953\"],[0.7777777777777778,\"#fb9f3a\"],[0.8888888888888888,\"#fdca26\"],[1.0,\"#f0f921\"]],\"type\":\"histogram2d\"}],\"histogram2dcontour\":[{\"colorbar\":{\"outlinewidth\":0,\"ticks\":\"\"},\"colorscale\":[[0.0,\"#0d0887\"],[0.1111111111111111,\"#46039f\"],[0.2222222222222222,\"#7201a8\"],[0.3333333333333333,\"#9c179e\"],[0.4444444444444444,\"#bd3786\"],[0.5555555555555556,\"#d8576b\"],[0.6666666666666666,\"#ed7953\"],[0.7777777777777778,\"#fb9f3a\"],[0.8888888888888888,\"#fdca26\"],[1.0,\"#f0f921\"]],\"type\":\"histogram2dcontour\"}],\"mesh3d\":[{\"colorbar\":{\"outlinewidth\":0,\"ticks\":\"\"},\"type\":\"mesh3d\"}],\"parcoords\":[{\"line\":{\"colorbar\":{\"outlinewidth\":0,\"ticks\":\"\"}},\"type\":\"parcoords\"}],\"pie\":[{\"automargin\":true,\"type\":\"pie\"}],\"scatter\":[{\"marker\":{\"colorbar\":{\"outlinewidth\":0,\"ticks\":\"\"}},\"type\":\"scatter\"}],\"scatter3d\":[{\"line\":{\"colorbar\":{\"outlinewidth\":0,\"ticks\":\"\"}},\"marker\":{\"colorbar\":{\"outlinewidth\":0,\"ticks\":\"\"}},\"type\":\"scatter3d\"}],\"scattercarpet\":[{\"marker\":{\"colorbar\":{\"outlinewidth\":0,\"ticks\":\"\"}},\"type\":\"scattercarpet\"}],\"scattergeo\":[{\"marker\":{\"colorbar\":{\"outlinewidth\":0,\"ticks\":\"\"}},\"type\":\"scattergeo\"}],\"scattergl\":[{\"marker\":{\"colorbar\":{\"outlinewidth\":0,\"ticks\":\"\"}},\"type\":\"scattergl\"}],\"scattermapbox\":[{\"marker\":{\"colorbar\":{\"outlinewidth\":0,\"ticks\":\"\"}},\"type\":\"scattermapbox\"}],\"scatterpolar\":[{\"marker\":{\"colorbar\":{\"outlinewidth\":0,\"ticks\":\"\"}},\"type\":\"scatterpolar\"}],\"scatterpolargl\":[{\"marker\":{\"colorbar\":{\"outlinewidth\":0,\"ticks\":\"\"}},\"type\":\"scatterpolargl\"}],\"scatterternary\":[{\"marker\":{\"colorbar\":{\"outlinewidth\":0,\"ticks\":\"\"}},\"type\":\"scatterternary\"}],\"surface\":[{\"colorbar\":{\"outlinewidth\":0,\"ticks\":\"\"},\"colorscale\":[[0.0,\"#0d0887\"],[0.1111111111111111,\"#46039f\"],[0.2222222222222222,\"#7201a8\"],[0.3333333333333333,\"#9c179e\"],[0.4444444444444444,\"#bd3786\"],[0.5555555555555556,\"#d8576b\"],[0.6666666666666666,\"#ed7953\"],[0.7777777777777778,\"#fb9f3a\"],[0.8888888888888888,\"#fdca26\"],[1.0,\"#f0f921\"]],\"type\":\"surface\"}],\"table\":[{\"cells\":{\"fill\":{\"color\":\"#EBF0F8\"},\"line\":{\"color\":\"white\"}},\"header\":{\"fill\":{\"color\":\"#C8D4E3\"},\"line\":{\"color\":\"white\"}},\"type\":\"table\"}]},\"layout\":{\"annotationdefaults\":{\"arrowcolor\":\"#2a3f5f\",\"arrowhead\":0,\"arrowwidth\":1},\"autotypenumbers\":\"strict\",\"coloraxis\":{\"colorbar\":{\"outlinewidth\":0,\"ticks\":\"\"}},\"colorscale\":{\"diverging\":[[0,\"#8e0152\"],[0.1,\"#c51b7d\"],[0.2,\"#de77ae\"],[0.3,\"#f1b6da\"],[0.4,\"#fde0ef\"],[0.5,\"#f7f7f7\"],[0.6,\"#e6f5d0\"],[0.7,\"#b8e186\"],[0.8,\"#7fbc41\"],[0.9,\"#4d9221\"],[1,\"#276419\"]],\"sequential\":[[0.0,\"#0d0887\"],[0.1111111111111111,\"#46039f\"],[0.2222222222222222,\"#7201a8\"],[0.3333333333333333,\"#9c179e\"],[0.4444444444444444,\"#bd3786\"],[0.5555555555555556,\"#d8576b\"],[0.6666666666666666,\"#ed7953\"],[0.7777777777777778,\"#fb9f3a\"],[0.8888888888888888,\"#fdca26\"],[1.0,\"#f0f921\"]],\"sequentialminus\":[[0.0,\"#0d0887\"],[0.1111111111111111,\"#46039f\"],[0.2222222222222222,\"#7201a8\"],[0.3333333333333333,\"#9c179e\"],[0.4444444444444444,\"#bd3786\"],[0.5555555555555556,\"#d8576b\"],[0.6666666666666666,\"#ed7953\"],[0.7777777777777778,\"#fb9f3a\"],[0.8888888888888888,\"#fdca26\"],[1.0,\"#f0f921\"]]},\"colorway\":[\"#636efa\",\"#EF553B\",\"#00cc96\",\"#ab63fa\",\"#FFA15A\",\"#19d3f3\",\"#FF6692\",\"#B6E880\",\"#FF97FF\",\"#FECB52\"],\"font\":{\"color\":\"#2a3f5f\"},\"geo\":{\"bgcolor\":\"white\",\"lakecolor\":\"white\",\"landcolor\":\"#E5ECF6\",\"showlakes\":true,\"showland\":true,\"subunitcolor\":\"white\"},\"hoverlabel\":{\"align\":\"left\"},\"hovermode\":\"closest\",\"mapbox\":{\"style\":\"light\"},\"paper_bgcolor\":\"white\",\"plot_bgcolor\":\"#E5ECF6\",\"polar\":{\"angularaxis\":{\"gridcolor\":\"white\",\"linecolor\":\"white\",\"ticks\":\"\"},\"bgcolor\":\"#E5ECF6\",\"radialaxis\":{\"gridcolor\":\"white\",\"linecolor\":\"white\",\"ticks\":\"\"}},\"scene\":{\"xaxis\":{\"backgroundcolor\":\"#E5ECF6\",\"gridcolor\":\"white\",\"gridwidth\":2,\"linecolor\":\"white\",\"showbackground\":true,\"ticks\":\"\",\"zerolinecolor\":\"white\"},\"yaxis\":{\"backgroundcolor\":\"#E5ECF6\",\"gridcolor\":\"white\",\"gridwidth\":2,\"linecolor\":\"white\",\"showbackground\":true,\"ticks\":\"\",\"zerolinecolor\":\"white\"},\"zaxis\":{\"backgroundcolor\":\"#E5ECF6\",\"gridcolor\":\"white\",\"gridwidth\":2,\"linecolor\":\"white\",\"showbackground\":true,\"ticks\":\"\",\"zerolinecolor\":\"white\"}},\"shapedefaults\":{\"line\":{\"color\":\"#2a3f5f\"}},\"ternary\":{\"aaxis\":{\"gridcolor\":\"white\",\"linecolor\":\"white\",\"ticks\":\"\"},\"baxis\":{\"gridcolor\":\"white\",\"linecolor\":\"white\",\"ticks\":\"\"},\"bgcolor\":\"#E5ECF6\",\"caxis\":{\"gridcolor\":\"white\",\"linecolor\":\"white\",\"ticks\":\"\"}},\"title\":{\"x\":0.05},\"xaxis\":{\"automargin\":true,\"gridcolor\":\"white\",\"linecolor\":\"white\",\"ticks\":\"\",\"title\":{\"standoff\":15},\"zerolinecolor\":\"white\",\"zerolinewidth\":2},\"yaxis\":{\"automargin\":true,\"gridcolor\":\"white\",\"linecolor\":\"white\",\"ticks\":\"\",\"title\":{\"standoff\":15},\"zerolinecolor\":\"white\",\"zerolinewidth\":2}}},\"yaxis\":{\"range\":[0,1.2],\"title\":{\"text\":\"W value\"}},\"width\":500,\"height\":500,\"title\":{\"text\":\"$w(x_i) = \\\\exp(-\\\\frac{(x_i-x)^2}{2 \\\\tau^2}), \\\\ x=0$\"},\"xaxis\":{\"title\":{\"text\":\"X value\"}}},                        {\"responsive\": true}                    ).then(function(){\n                            \nvar gd = document.getElementById('b4d484fa-f410-4a9a-a497-4487272075d2');\nvar x = new MutationObserver(function (mutations, observer) {{\n        var display = window.getComputedStyle(gd).display;\n        if (!display || display === 'none') {{\n            console.log([gd, 'removed!']);\n            Plotly.purge(gd);\n            observer.disconnect();\n        }}\n}});\n\n// Listen for the removal of the full notebook cells\nvar notebookContainer = gd.closest('#notebook-container');\nif (notebookContainer) {{\n    x.observe(notebookContainer, {childList: true});\n}}\n\n// Listen for the clearing of the current output cell\nvar outputEl = gd.closest('.output');\nif (outputEl) {{\n    x.observe(outputEl, {childList: true});\n}}\n\n                        })                };                            </script>        </div>\n</body>\n</html>"
                },
                "metadata": {}
              }
            ]
          }
        },
        "fcff3f688bb0462b915da5f158dc1ab3": {
          "model_module": "@jupyter-widgets/base",
          "model_name": "LayoutModel",
          "model_module_version": "1.2.0",
          "state": {
            "_model_module": "@jupyter-widgets/base",
            "_model_module_version": "1.2.0",
            "_model_name": "LayoutModel",
            "_view_count": null,
            "_view_module": "@jupyter-widgets/base",
            "_view_module_version": "1.2.0",
            "_view_name": "LayoutView",
            "align_content": null,
            "align_items": null,
            "align_self": null,
            "border": null,
            "bottom": null,
            "display": null,
            "flex": null,
            "flex_flow": null,
            "grid_area": null,
            "grid_auto_columns": null,
            "grid_auto_flow": null,
            "grid_auto_rows": null,
            "grid_column": null,
            "grid_gap": null,
            "grid_row": null,
            "grid_template_areas": null,
            "grid_template_columns": null,
            "grid_template_rows": null,
            "height": null,
            "justify_content": null,
            "justify_items": null,
            "left": null,
            "margin": null,
            "max_height": null,
            "max_width": null,
            "min_height": null,
            "min_width": null,
            "object_fit": null,
            "object_position": null,
            "order": null,
            "overflow": null,
            "overflow_x": null,
            "overflow_y": null,
            "padding": null,
            "right": null,
            "top": null,
            "visibility": null,
            "width": null
          }
        },
        "f76f316ead194bc8a1ed506a9cf6513b": {
          "model_module": "@jupyter-widgets/base",
          "model_name": "LayoutModel",
          "model_module_version": "1.2.0",
          "state": {
            "_model_module": "@jupyter-widgets/base",
            "_model_module_version": "1.2.0",
            "_model_name": "LayoutModel",
            "_view_count": null,
            "_view_module": "@jupyter-widgets/base",
            "_view_module_version": "1.2.0",
            "_view_name": "LayoutView",
            "align_content": null,
            "align_items": null,
            "align_self": null,
            "border": null,
            "bottom": null,
            "display": null,
            "flex": null,
            "flex_flow": null,
            "grid_area": null,
            "grid_auto_columns": null,
            "grid_auto_flow": null,
            "grid_auto_rows": null,
            "grid_column": null,
            "grid_gap": null,
            "grid_row": null,
            "grid_template_areas": null,
            "grid_template_columns": null,
            "grid_template_rows": null,
            "height": null,
            "justify_content": null,
            "justify_items": null,
            "left": null,
            "margin": null,
            "max_height": null,
            "max_width": null,
            "min_height": null,
            "min_width": null,
            "object_fit": null,
            "object_position": null,
            "order": null,
            "overflow": null,
            "overflow_x": null,
            "overflow_y": null,
            "padding": null,
            "right": null,
            "top": null,
            "visibility": null,
            "width": null
          }
        },
        "f27958dde1644897b69b6c3fbee309ec": {
          "model_module": "@jupyter-widgets/controls",
          "model_name": "SliderStyleModel",
          "model_module_version": "1.5.0",
          "state": {
            "_model_module": "@jupyter-widgets/controls",
            "_model_module_version": "1.5.0",
            "_model_name": "SliderStyleModel",
            "_view_count": null,
            "_view_module": "@jupyter-widgets/base",
            "_view_module_version": "1.2.0",
            "_view_name": "StyleView",
            "description_width": "",
            "handle_color": null
          }
        },
        "91fcbd5d48d94e0f9f1a36ef7014c60a": {
          "model_module": "@jupyter-widgets/base",
          "model_name": "LayoutModel",
          "model_module_version": "1.2.0",
          "state": {
            "_model_module": "@jupyter-widgets/base",
            "_model_module_version": "1.2.0",
            "_model_name": "LayoutModel",
            "_view_count": null,
            "_view_module": "@jupyter-widgets/base",
            "_view_module_version": "1.2.0",
            "_view_name": "LayoutView",
            "align_content": null,
            "align_items": null,
            "align_self": null,
            "border": null,
            "bottom": null,
            "display": null,
            "flex": null,
            "flex_flow": null,
            "grid_area": null,
            "grid_auto_columns": null,
            "grid_auto_flow": null,
            "grid_auto_rows": null,
            "grid_column": null,
            "grid_gap": null,
            "grid_row": null,
            "grid_template_areas": null,
            "grid_template_columns": null,
            "grid_template_rows": null,
            "height": null,
            "justify_content": null,
            "justify_items": null,
            "left": null,
            "margin": null,
            "max_height": null,
            "max_width": null,
            "min_height": null,
            "min_width": null,
            "object_fit": null,
            "object_position": null,
            "order": null,
            "overflow": null,
            "overflow_x": null,
            "overflow_y": null,
            "padding": null,
            "right": null,
            "top": null,
            "visibility": null,
            "width": null
          }
        }
      }
    }
  },
  "cells": [
    {
      "cell_type": "markdown",
      "source": [
        "# Locally Weighted Regression"
      ],
      "metadata": {
        "id": "PayZAVO_DRZh"
      }
    },
    {
      "cell_type": "markdown",
      "source": [
        "In this tutorial you will implement locally weighted regression (LWR) and understand the differences between LWR and linear regression.\n",
        "\n",
        "The idea behind locally weighted regression (LWR) is to fit linear model in a local region about the point we want to do prediction at.\n",
        "More formally, given the point $x$ at which we want to predict the output, we minimize the following loss function:\n",
        "$$\n",
        "\\begin{align}\n",
        "L(\\theta) &= \\sum_{i=1}^{N} w(x_i) (y_i - \\theta^Tx_i)^2 \\\\\n",
        "& = (X \\theta - y)^T W (X \\theta - y)\n",
        "\\end{align}\n",
        "$$\n",
        "\n",
        "\\begin{equation}\n",
        "X = \\begin{bmatrix}\n",
        "     - (x^{(1)})^T - \\\\\n",
        "     \\vdots \\\\\n",
        "     - (x^{(n)})^T - \\\\\n",
        "     \\end{bmatrix}\n",
        "     \\in \\mathbb{R}^{m \\times n}\n",
        "\\qquad\n",
        "y = \\begin{bmatrix}\n",
        "     y^{(1)} \\\\\n",
        "     \\vdots \\\\\n",
        "     y^{(n)} \\\\\n",
        "     \\end{bmatrix}\n",
        "\\qquad\n",
        "W =  \\mathrm{diag} (w^{(i)}, \\dots , w^{(n)})\n",
        "\\end{equation}\n",
        "\n",
        "Where $w(x_i)$ is a weghting function, the purpose of this function is control the importance of each training example $(x_i, y_i)$ relative to the prediction point $x$, points which are close to $x$ will have larger weights while points which are far away from $x$ will have smaller weights.\n",
        "\n",
        "A common choice of $w(x_i)$ is of the following form\n",
        "$$\n",
        "w(x_i) = \\exp(-\\frac{(x_i-x)^2}{2 \\tau^2})\n",
        "$$\n",
        "Notice that when the example $x_i$ is close to the prediction point $x$ the weight is close to 1, and if $x_i$ is far away from $x$ the weight is close to 0.\n",
        "$\\tau$ controls the decay rate in which the weight falls from 1 to 0, the smaller the value of $\\tau$ the quciker the weight falls to 0 as the point $x_i$ move further away from $x$, you can play interactively with in the next cell to understand the affect of $\\tau$, $\\tau$ is called the bandwidth parameter.\n",
        "\n",
        "\n",
        "We can solve for $\\theta$ with a slightly modified version of the normal equations\n",
        "$$\\theta = (X^T W X)^{-1} X^T W y$$"
      ],
      "metadata": {
        "id": "wLwOk-JRDU7g"
      }
    },
    {
      "cell_type": "code",
      "source": [
        "#@title Install some dependencies for the interactive plot\n",
        "!pip install ipympl\n",
        "!pip install plotly"
      ],
      "metadata": {
        "id": "w1xgAJ1VNLQJ",
        "colab": {
          "base_uri": "https://localhost:8080/"
        },
        "outputId": "636324ae-8395-4518-f229-f3d2fc9d3ceb"
      },
      "execution_count": null,
      "outputs": [
        {
          "output_type": "stream",
          "name": "stdout",
          "text": [
            "Looking in indexes: https://pypi.org/simple, https://us-python.pkg.dev/colab-wheels/public/simple/\n",
            "Collecting ipympl\n",
            "  Downloading ipympl-0.9.3-py2.py3-none-any.whl (511 kB)\n",
            "\u001b[2K     \u001b[90m━━━━━━━━━━━━━━━━━━━━━━━━━━━━━━━━━━━━━━\u001b[0m \u001b[32m511.6/511.6 KB\u001b[0m \u001b[31m12.6 MB/s\u001b[0m eta \u001b[36m0:00:00\u001b[0m\n",
            "\u001b[?25hRequirement already satisfied: numpy in /usr/local/lib/python3.9/dist-packages (from ipympl) (1.22.4)\n",
            "Requirement already satisfied: traitlets<6 in /usr/local/lib/python3.9/dist-packages (from ipympl) (5.7.1)\n",
            "Requirement already satisfied: pillow in /usr/local/lib/python3.9/dist-packages (from ipympl) (8.4.0)\n",
            "Requirement already satisfied: ipython-genutils in /usr/local/lib/python3.9/dist-packages (from ipympl) (0.2.0)\n",
            "Requirement already satisfied: matplotlib<4,>=3.4.0 in /usr/local/lib/python3.9/dist-packages (from ipympl) (3.7.1)\n",
            "Requirement already satisfied: ipywidgets<9,>=7.6.0 in /usr/local/lib/python3.9/dist-packages (from ipympl) (7.7.1)\n",
            "Requirement already satisfied: ipython<9 in /usr/local/lib/python3.9/dist-packages (from ipympl) (7.9.0)\n",
            "Requirement already satisfied: decorator in /usr/local/lib/python3.9/dist-packages (from ipython<9->ipympl) (4.4.2)\n",
            "Requirement already satisfied: pygments in /usr/local/lib/python3.9/dist-packages (from ipython<9->ipympl) (2.6.1)\n",
            "Requirement already satisfied: backcall in /usr/local/lib/python3.9/dist-packages (from ipython<9->ipympl) (0.2.0)\n",
            "Requirement already satisfied: pickleshare in /usr/local/lib/python3.9/dist-packages (from ipython<9->ipympl) (0.7.5)\n",
            "Requirement already satisfied: setuptools>=18.5 in /usr/local/lib/python3.9/dist-packages (from ipython<9->ipympl) (63.4.3)\n",
            "Requirement already satisfied: prompt-toolkit<2.1.0,>=2.0.0 in /usr/local/lib/python3.9/dist-packages (from ipython<9->ipympl) (2.0.10)\n",
            "Requirement already satisfied: pexpect in /usr/local/lib/python3.9/dist-packages (from ipython<9->ipympl) (4.8.0)\n",
            "Collecting jedi>=0.10\n",
            "  Downloading jedi-0.18.2-py2.py3-none-any.whl (1.6 MB)\n",
            "\u001b[2K     \u001b[90m━━━━━━━━━━━━━━━━━━━━━━━━━━━━━━━━━━━━━━━━\u001b[0m \u001b[32m1.6/1.6 MB\u001b[0m \u001b[31m67.5 MB/s\u001b[0m eta \u001b[36m0:00:00\u001b[0m\n",
            "\u001b[?25hRequirement already satisfied: widgetsnbextension~=3.6.0 in /usr/local/lib/python3.9/dist-packages (from ipywidgets<9,>=7.6.0->ipympl) (3.6.2)\n",
            "Requirement already satisfied: ipykernel>=4.5.1 in /usr/local/lib/python3.9/dist-packages (from ipywidgets<9,>=7.6.0->ipympl) (5.3.4)\n",
            "Requirement already satisfied: jupyterlab-widgets>=1.0.0 in /usr/local/lib/python3.9/dist-packages (from ipywidgets<9,>=7.6.0->ipympl) (3.0.5)\n",
            "Requirement already satisfied: kiwisolver>=1.0.1 in /usr/local/lib/python3.9/dist-packages (from matplotlib<4,>=3.4.0->ipympl) (1.4.4)\n",
            "Requirement already satisfied: python-dateutil>=2.7 in /usr/local/lib/python3.9/dist-packages (from matplotlib<4,>=3.4.0->ipympl) (2.8.2)\n",
            "Requirement already satisfied: fonttools>=4.22.0 in /usr/local/lib/python3.9/dist-packages (from matplotlib<4,>=3.4.0->ipympl) (4.39.0)\n",
            "Requirement already satisfied: importlib-resources>=3.2.0 in /usr/local/lib/python3.9/dist-packages (from matplotlib<4,>=3.4.0->ipympl) (5.12.0)\n",
            "Requirement already satisfied: pyparsing>=2.3.1 in /usr/local/lib/python3.9/dist-packages (from matplotlib<4,>=3.4.0->ipympl) (3.0.9)\n",
            "Requirement already satisfied: contourpy>=1.0.1 in /usr/local/lib/python3.9/dist-packages (from matplotlib<4,>=3.4.0->ipympl) (1.0.7)\n",
            "Requirement already satisfied: cycler>=0.10 in /usr/local/lib/python3.9/dist-packages (from matplotlib<4,>=3.4.0->ipympl) (0.11.0)\n",
            "Requirement already satisfied: packaging>=20.0 in /usr/local/lib/python3.9/dist-packages (from matplotlib<4,>=3.4.0->ipympl) (23.0)\n",
            "Requirement already satisfied: zipp>=3.1.0 in /usr/local/lib/python3.9/dist-packages (from importlib-resources>=3.2.0->matplotlib<4,>=3.4.0->ipympl) (3.15.0)\n",
            "Requirement already satisfied: tornado>=4.2 in /usr/local/lib/python3.9/dist-packages (from ipykernel>=4.5.1->ipywidgets<9,>=7.6.0->ipympl) (6.2)\n",
            "Requirement already satisfied: jupyter-client in /usr/local/lib/python3.9/dist-packages (from ipykernel>=4.5.1->ipywidgets<9,>=7.6.0->ipympl) (6.1.12)\n",
            "Requirement already satisfied: parso<0.9.0,>=0.8.0 in /usr/local/lib/python3.9/dist-packages (from jedi>=0.10->ipython<9->ipympl) (0.8.3)\n",
            "Requirement already satisfied: six>=1.9.0 in /usr/local/lib/python3.9/dist-packages (from prompt-toolkit<2.1.0,>=2.0.0->ipython<9->ipympl) (1.15.0)\n",
            "Requirement already satisfied: wcwidth in /usr/local/lib/python3.9/dist-packages (from prompt-toolkit<2.1.0,>=2.0.0->ipython<9->ipympl) (0.2.6)\n",
            "Requirement already satisfied: notebook>=4.4.1 in /usr/local/lib/python3.9/dist-packages (from widgetsnbextension~=3.6.0->ipywidgets<9,>=7.6.0->ipympl) (6.3.0)\n",
            "Requirement already satisfied: ptyprocess>=0.5 in /usr/local/lib/python3.9/dist-packages (from pexpect->ipython<9->ipympl) (0.7.0)\n",
            "Requirement already satisfied: pyzmq>=17 in /usr/local/lib/python3.9/dist-packages (from notebook>=4.4.1->widgetsnbextension~=3.6.0->ipywidgets<9,>=7.6.0->ipympl) (23.2.1)\n",
            "Requirement already satisfied: terminado>=0.8.3 in /usr/local/lib/python3.9/dist-packages (from notebook>=4.4.1->widgetsnbextension~=3.6.0->ipywidgets<9,>=7.6.0->ipympl) (0.17.1)\n",
            "Requirement already satisfied: Send2Trash>=1.5.0 in /usr/local/lib/python3.9/dist-packages (from notebook>=4.4.1->widgetsnbextension~=3.6.0->ipywidgets<9,>=7.6.0->ipympl) (1.8.0)\n",
            "Requirement already satisfied: jupyter-core>=4.6.1 in /usr/local/lib/python3.9/dist-packages (from notebook>=4.4.1->widgetsnbextension~=3.6.0->ipywidgets<9,>=7.6.0->ipympl) (5.2.0)\n",
            "Requirement already satisfied: nbconvert in /usr/local/lib/python3.9/dist-packages (from notebook>=4.4.1->widgetsnbextension~=3.6.0->ipywidgets<9,>=7.6.0->ipympl) (6.5.4)\n",
            "Requirement already satisfied: nbformat in /usr/local/lib/python3.9/dist-packages (from notebook>=4.4.1->widgetsnbextension~=3.6.0->ipywidgets<9,>=7.6.0->ipympl) (5.7.3)\n",
            "Requirement already satisfied: prometheus-client in /usr/local/lib/python3.9/dist-packages (from notebook>=4.4.1->widgetsnbextension~=3.6.0->ipywidgets<9,>=7.6.0->ipympl) (0.16.0)\n",
            "Requirement already satisfied: jinja2 in /usr/local/lib/python3.9/dist-packages (from notebook>=4.4.1->widgetsnbextension~=3.6.0->ipywidgets<9,>=7.6.0->ipympl) (3.1.2)\n",
            "Requirement already satisfied: argon2-cffi in /usr/local/lib/python3.9/dist-packages (from notebook>=4.4.1->widgetsnbextension~=3.6.0->ipywidgets<9,>=7.6.0->ipympl) (21.3.0)\n",
            "Requirement already satisfied: platformdirs>=2.5 in /usr/local/lib/python3.9/dist-packages (from jupyter-core>=4.6.1->notebook>=4.4.1->widgetsnbextension~=3.6.0->ipywidgets<9,>=7.6.0->ipympl) (3.1.1)\n",
            "Requirement already satisfied: argon2-cffi-bindings in /usr/local/lib/python3.9/dist-packages (from argon2-cffi->notebook>=4.4.1->widgetsnbextension~=3.6.0->ipywidgets<9,>=7.6.0->ipympl) (21.2.0)\n",
            "Requirement already satisfied: MarkupSafe>=2.0 in /usr/local/lib/python3.9/dist-packages (from jinja2->notebook>=4.4.1->widgetsnbextension~=3.6.0->ipywidgets<9,>=7.6.0->ipympl) (2.1.2)\n",
            "Requirement already satisfied: tinycss2 in /usr/local/lib/python3.9/dist-packages (from nbconvert->notebook>=4.4.1->widgetsnbextension~=3.6.0->ipywidgets<9,>=7.6.0->ipympl) (1.2.1)\n",
            "Requirement already satisfied: pandocfilters>=1.4.1 in /usr/local/lib/python3.9/dist-packages (from nbconvert->notebook>=4.4.1->widgetsnbextension~=3.6.0->ipywidgets<9,>=7.6.0->ipympl) (1.5.0)\n",
            "Requirement already satisfied: beautifulsoup4 in /usr/local/lib/python3.9/dist-packages (from nbconvert->notebook>=4.4.1->widgetsnbextension~=3.6.0->ipywidgets<9,>=7.6.0->ipympl) (4.9.3)\n",
            "Requirement already satisfied: lxml in /usr/local/lib/python3.9/dist-packages (from nbconvert->notebook>=4.4.1->widgetsnbextension~=3.6.0->ipywidgets<9,>=7.6.0->ipympl) (4.9.2)\n",
            "Requirement already satisfied: entrypoints>=0.2.2 in /usr/local/lib/python3.9/dist-packages (from nbconvert->notebook>=4.4.1->widgetsnbextension~=3.6.0->ipywidgets<9,>=7.6.0->ipympl) (0.4)\n",
            "Requirement already satisfied: defusedxml in /usr/local/lib/python3.9/dist-packages (from nbconvert->notebook>=4.4.1->widgetsnbextension~=3.6.0->ipywidgets<9,>=7.6.0->ipympl) (0.7.1)\n",
            "Requirement already satisfied: jupyterlab-pygments in /usr/local/lib/python3.9/dist-packages (from nbconvert->notebook>=4.4.1->widgetsnbextension~=3.6.0->ipywidgets<9,>=7.6.0->ipympl) (0.2.2)\n",
            "Requirement already satisfied: nbclient>=0.5.0 in /usr/local/lib/python3.9/dist-packages (from nbconvert->notebook>=4.4.1->widgetsnbextension~=3.6.0->ipywidgets<9,>=7.6.0->ipympl) (0.7.2)\n",
            "Requirement already satisfied: bleach in /usr/local/lib/python3.9/dist-packages (from nbconvert->notebook>=4.4.1->widgetsnbextension~=3.6.0->ipywidgets<9,>=7.6.0->ipympl) (6.0.0)\n",
            "Requirement already satisfied: mistune<2,>=0.8.1 in /usr/local/lib/python3.9/dist-packages (from nbconvert->notebook>=4.4.1->widgetsnbextension~=3.6.0->ipywidgets<9,>=7.6.0->ipympl) (0.8.4)\n",
            "Requirement already satisfied: fastjsonschema in /usr/local/lib/python3.9/dist-packages (from nbformat->notebook>=4.4.1->widgetsnbextension~=3.6.0->ipywidgets<9,>=7.6.0->ipympl) (2.16.3)\n",
            "Requirement already satisfied: jsonschema>=2.6 in /usr/local/lib/python3.9/dist-packages (from nbformat->notebook>=4.4.1->widgetsnbextension~=3.6.0->ipywidgets<9,>=7.6.0->ipympl) (4.3.3)\n",
            "Requirement already satisfied: pyrsistent!=0.17.0,!=0.17.1,!=0.17.2,>=0.14.0 in /usr/local/lib/python3.9/dist-packages (from jsonschema>=2.6->nbformat->notebook>=4.4.1->widgetsnbextension~=3.6.0->ipywidgets<9,>=7.6.0->ipympl) (0.19.3)\n",
            "Requirement already satisfied: attrs>=17.4.0 in /usr/local/lib/python3.9/dist-packages (from jsonschema>=2.6->nbformat->notebook>=4.4.1->widgetsnbextension~=3.6.0->ipywidgets<9,>=7.6.0->ipympl) (22.2.0)\n",
            "Requirement already satisfied: cffi>=1.0.1 in /usr/local/lib/python3.9/dist-packages (from argon2-cffi-bindings->argon2-cffi->notebook>=4.4.1->widgetsnbextension~=3.6.0->ipywidgets<9,>=7.6.0->ipympl) (1.15.1)\n",
            "Requirement already satisfied: soupsieve>1.2 in /usr/local/lib/python3.9/dist-packages (from beautifulsoup4->nbconvert->notebook>=4.4.1->widgetsnbextension~=3.6.0->ipywidgets<9,>=7.6.0->ipympl) (2.4)\n",
            "Requirement already satisfied: webencodings in /usr/local/lib/python3.9/dist-packages (from bleach->nbconvert->notebook>=4.4.1->widgetsnbextension~=3.6.0->ipywidgets<9,>=7.6.0->ipympl) (0.5.1)\n",
            "Requirement already satisfied: pycparser in /usr/local/lib/python3.9/dist-packages (from cffi>=1.0.1->argon2-cffi-bindings->argon2-cffi->notebook>=4.4.1->widgetsnbextension~=3.6.0->ipywidgets<9,>=7.6.0->ipympl) (2.21)\n",
            "Installing collected packages: jedi, ipympl\n",
            "Successfully installed ipympl-0.9.3 jedi-0.18.2\n",
            "Looking in indexes: https://pypi.org/simple, https://us-python.pkg.dev/colab-wheels/public/simple/\n",
            "Requirement already satisfied: plotly in /usr/local/lib/python3.9/dist-packages (5.5.0)\n",
            "Requirement already satisfied: tenacity>=6.2.0 in /usr/local/lib/python3.9/dist-packages (from plotly) (8.2.2)\n",
            "Requirement already satisfied: six in /usr/local/lib/python3.9/dist-packages (from plotly) (1.15.0)\n"
          ]
        }
      ]
    },
    {
      "cell_type": "markdown",
      "source": [],
      "metadata": {
        "id": "M6w9-072jgFR"
      }
    },
    {
      "cell_type": "code",
      "execution_count": null,
      "metadata": {
        "colab": {
          "base_uri": "https://localhost:8080/",
          "height": 674,
          "referenced_widgets": [
            "6a8c45cac0b14cfca42dd5ee4ca0b087",
            "b64cba03a13445d49016f157d4cc0b0d",
            "653d8865e6494a02b7b582e51e25058e",
            "fcff3f688bb0462b915da5f158dc1ab3",
            "f76f316ead194bc8a1ed506a9cf6513b",
            "f27958dde1644897b69b6c3fbee309ec",
            "91fcbd5d48d94e0f9f1a36ef7014c60a"
          ]
        },
        "id": "ytkLiq_7DJT6",
        "outputId": "1ecdd269-6044-4256-a08a-f9aade3c7553"
      },
      "outputs": [
        {
          "output_type": "display_data",
          "data": {
            "text/plain": [
              "interactive(children=(FloatSlider(value=1.0, description='tau', max=5.0, min=0.1), Output()), _dom_classes=('w…"
            ],
            "application/vnd.jupyter.widget-view+json": {
              "version_major": 2,
              "version_minor": 0,
              "model_id": "6a8c45cac0b14cfca42dd5ee4ca0b087"
            }
          },
          "metadata": {}
        }
      ],
      "source": [
        "#@title Interactive plot for the weight function\n",
        "\n",
        "import plotly.graph_objects as go\n",
        "import ipywidgets as widgets\n",
        "from ipywidgets import interact, interact_manual\n",
        "import numpy as np\n",
        "\n",
        "@interact\n",
        "def f(tau=widgets.FloatSlider(min=0.1, max=5, step=0.1, value=1)):\n",
        "  x = 0\n",
        "  x_i = np.arange(-10, 10, 0.1)\n",
        "  w = np.exp(- (x_i - x)**2/(2*tau**2) )\n",
        "  f = go.Figure(data=go.Line(x=x_i, y=w, mode='lines'))\n",
        "  f.update_layout(yaxis_range=[0,1.2], width=500, height=500, title=r\"$w(x_i) = \\exp(-\\frac{(x_i-x)^2}{2 \\tau^2}), \\ x=0$\", xaxis_title=\"X value\", yaxis_title=\"W value\")\n",
        "  f.show()\n"
      ]
    },
    {
      "cell_type": "markdown",
      "source": [
        "After playing with the weighting function, write your observations in the next cell"
      ],
      "metadata": {
        "id": "-VSuJ6EdqeLQ"
      }
    },
    {
      "cell_type": "code",
      "source": [
        "# Your comments"
      ],
      "metadata": {
        "id": "5cu2nCotqlCE"
      },
      "execution_count": null,
      "outputs": []
    },
    {
      "cell_type": "markdown",
      "source": [
        "# Training Data"
      ],
      "metadata": {
        "id": "KoFvuAIljkqq"
      }
    },
    {
      "cell_type": "code",
      "source": [
        "import matplotlib.pyplot as plt\n",
        "import matplotlib\n",
        "matplotlib.rcParams['figure.figsize'] = (10, 7)\n",
        "matplotlib.rcParams['legend.fontsize'] = 15\n",
        "import numpy as np\n",
        "\n",
        "def generate_data(add_outlier=False):\n",
        "  x = np.arange(-4, 4, 0.03)\n",
        "  # if add_outlier:\n",
        "  #   x = np.concatenate([x, [3, 5, 1]], axis=0)\n",
        "  y =  x**3*np.sin(x)\n",
        "  # y = 2*x\n",
        "  plt.plot(x, y, label=\"Data generating function\", color=\"red\")\n",
        "  x = np.arange(-4, 4, 0.3)\n",
        "  # if add_outlier:\n",
        "  #   x = np.concatenate([x, [3, 5, 1]], axis=0)\n",
        "  y =  x**3*np.sin(x)\n",
        "  noise = np.random.randn(x.shape[0]) * 5\n",
        "  y += noise\n",
        "  if add_outlier:\n",
        "    x = np.concatenate([x, [3, 5, -1, 1, 0]], axis=0)\n",
        "    y = np.concatenate([y, [300, 200, 100, -100, 500]], axis=0)\n",
        "  plt.scatter(x, y, label=\"Data samples\", color=\"blue\")\n",
        "  font = {\"size\":15}\n",
        "  plt.legend()\n",
        "  plt.xlabel(\"x\", fontdict=font)\n",
        "  plt.ylabel(\"y\", fontdict=font)\n",
        "  plt.title(\"Training Data\", fontdict=font)\n",
        "  return x.reshape(-1, 1), y.reshape(-1, 1)\n",
        "  \n",
        "\n",
        "x_train, y_train = generate_data()"
      ],
      "metadata": {
        "colab": {
          "base_uri": "https://localhost:8080/",
          "height": 465
        },
        "id": "R2uMWNpxjm6a",
        "outputId": "bb43f1a0-6906-4a9a-ffc1-5578f4bab130"
      },
      "execution_count": null,
      "outputs": [
        {
          "output_type": "display_data",
          "data": {
            "text/plain": [
              "<Figure size 720x504 with 1 Axes>"
            ],
            "image/png": "[encoded data removed]"
          },
          "metadata": {
            "needs_background": "light"
          }
        }
      ]
    },
    {
      "cell_type": "code",
      "source": [],
      "metadata": {
        "id": "TXvmgR6GAxAL"
      },
      "execution_count": null,
      "outputs": []
    },
    {
      "cell_type": "markdown",
      "source": [
        "# LWR Model\n",
        "\n",
        "\n"
      ],
      "metadata": {
        "id": "NJPgR3dvpEDP"
      }
    },
    {
      "cell_type": "code",
      "source": [
        "import scipy\n",
        "class LWR:\n",
        "  def __init__(self, lr, tau):\n",
        "    # lr: learning rate\n",
        "    # epochs: training\n",
        "    # tau: bandwidth parameter\n",
        "    self.lr = lr\n",
        "    self.theta = None\n",
        "    self.tau = tau\n",
        "    \n",
        "\n",
        "  def add_ones(self,x):\n",
        "    x_with_ones= np.hstack((np.ones((x.shape[0],1)),x))\n",
        "    return  x_with_ones\n",
        "\n",
        "  \n",
        "  def _weighting_function(self, x_pred):\n",
        "    w_matrix =np.zeros((self.x_train.shape[0], self.x_train.shape[0])) \n",
        "    for i in range(self.x_train.shape[0]):\n",
        "      w_matrix[i,i] = np.exp(-np.linalg.norm(self.x_train[i,:]-x_pred)**2/self.tau**2)\n",
        "\n",
        "    return w_matrix\n",
        "\n",
        "\n",
        "  def fit(self,x_train, y_train):\n",
        "\n",
        "    self.x_train=x_train\n",
        "    self.y_train=y_train\n",
        "    return self.x_train, self.y_train\n",
        "\n",
        "\n",
        "  def predict(self, x_pred):\n",
        "    # Predict the output given x_pred\n",
        "    y_pred = None\n",
        "    # add ones to the training and predicton points\n",
        "    x_train=self.add_ones(self.x_train)\n",
        "    x_pred = self.add_ones(x_pred)\n",
        "    \n",
        "    # Compute the weights matrix\n",
        "    w_matrix= self._weighting_function(x_pred)\n",
        "\n",
        "\n",
        "    # compute the model parameters with the normal equations described above\n",
        "    XX = (x_train.T@w_matrix)@x_train\n",
        "    XW= x_train.T@w_matrix@self.y_train\n",
        "\n",
        "    self.theta = scipy.linalg.solve(XX, XW)\n",
        "    y_pred = x_pred@self.theta\n",
        "    return y_pred\n"
      ],
      "metadata": {
        "id": "xMn9IvGrmD6L"
      },
      "execution_count": null,
      "outputs": []
    },
    {
      "cell_type": "code",
      "source": [
        "# Now train the locally weighted regression model that you coded\n",
        "# Define the model\n",
        "# use the fit function to save the x and y training data\n",
        "# use the prediction function to compute predictions\n",
        "# use a foor loop for predicting each value in x_pred, save it y_preds\n",
        "x_pred = np.arange(-4, 4, 0.03)\n",
        "y_preds = []\n",
        "model = LWR(0.1, 3.1)\n",
        "model.fit(x_train, y_train)\n",
        "for x in x_pred:\n",
        "  y_preds.append(model.predict(x.reshape(-1,1)))\n",
        "y_preds= np.reshape(y_preds,(-1,1))\n"
      ],
      "metadata": {
        "id": "VkfHg08WsKyf"
      },
      "execution_count": null,
      "outputs": []
    },
    {
      "cell_type": "markdown",
      "source": [
        "Plot the prediction output"
      ],
      "metadata": {
        "id": "8xXTRhLcs5gp"
      }
    },
    {
      "cell_type": "code",
      "source": [
        "def plot(x_train, y_train, x_pred, y_pred):\n",
        "  plt.figure()\n",
        "  plt.plot(x_train, y_train, 'bx', label='label')\n",
        "  plt.plot(x_pred, y_pred, 'ro', label='prediction')\n",
        "  plt.suptitle(\"Training Set\", fontsize=12)\n",
        "  plt.legend(loc='upper left')"
      ],
      "metadata": {
        "id": "-i9E3n2Bs4Gd"
      },
      "execution_count": null,
      "outputs": []
    },
    {
      "cell_type": "code",
      "source": [
        "# Use the plot function \n",
        "plot(x_train, y_train, x_pred, y_preds)"
      ],
      "metadata": {
        "id": "x9MA96n3tleb"
      },
      "execution_count": null,
      "outputs": []
    },
    {
      "cell_type": "code",
      "source": [
        "# How tau affect the solution?\n",
        "# Try different values of tau and observe the effect on the prediction by plotting them as above\n",
        "x_pred = np.arange(-4, 4, 0.03)\n",
        "y_preds = []\n",
        "model = LWR(0.1, 100)\n",
        "model.fit(x_train, y_train)\n",
        "\n",
        "for x in x_pred:\n",
        "  y_preds.append(model.predict(x.reshape(-1,1)))\n",
        "y_preds= np.reshape(y_preds,(-1,1))\n",
        "\n"
      ],
      "metadata": {
        "id": "O-o4v8livbwk"
      },
      "execution_count": null,
      "outputs": []
    },
    {
      "cell_type": "code",
      "source": [
        "def plot(x_train, y_train, x_pred, y_pred):\n",
        "  plt.figure()\n",
        "  plt.plot(x_train, y_train, 'bx', label='label')\n",
        "  plt.plot(x_pred, y_pred, 'ro', label='prediction')\n",
        "  plt.suptitle(\"Training Set\", fontsize=12)\n",
        "  plt.legend(loc='upper left')\n",
        "# Use the plot function \n",
        "plot(x_train, y_train, x_pred, y_preds)"
      ],
      "metadata": {
        "colab": {
          "base_uri": "https://localhost:8080/",
          "height": 479
        },
        "id": "u8Iag8_D7sNW",
        "outputId": "e5f2374c-09e1-4bab-c796-f28413cbdb21"
      },
      "execution_count": null,
      "outputs": [
        {
          "output_type": "display_data",
          "data": {
            "text/plain": [
              "<Figure size 720x504 with 1 Axes>"
            ],
            "image/png": "[encoded data removed]"
          },
          "metadata": {
            "needs_background": "light"
          }
        }
      ]
    },
    {
      "cell_type": "code",
      "source": [
        "# Your comments"
      ],
      "metadata": {
        "id": "Xq6Zjg_zFs7N"
      },
      "execution_count": null,
      "outputs": []
    },
    {
      "cell_type": "markdown",
      "source": [
        "# Robustness to outliers \n",
        "\n",
        "Locally weighting regression is better in handling outlier beucase the weighting function will give it a small weights"
      ],
      "metadata": {
        "id": "Kb4lyIA8t5Iu"
      }
    },
    {
      "cell_type": "code",
      "source": [
        "# Generate dataset with \n",
        "x_train, y_train = generate_data(add_outlier=True)"
      ],
      "metadata": {
        "colab": {
          "base_uri": "https://localhost:8080/",
          "height": 465
        },
        "id": "45kWOHH4t-aZ",
        "outputId": "eebb27ea-cd17-42ee-9f45-0726d82acb40"
      },
      "execution_count": null,
      "outputs": [
        {
          "output_type": "display_data",
          "data": {
            "text/plain": [
              "<Figure size 720x504 with 1 Axes>"
            ],
            "image/png": "[encoded data removed]"
          },
          "metadata": {
            "needs_background": "light"
          }
        }
      ]
    },
    {
      "cell_type": "code",
      "source": [
        "# train LWR on the new data and save the prediction values\n",
        "lwr_preds = []\n",
        "##### write your code here #####\n",
        "model = LWR(0.1, 0.5)\n",
        "model.fit(x_train, y_train)\n",
        "for x in x_pred:\n",
        "  lwr_preds.append(model.predict(x.reshape(-1,1)))\n",
        "\n"
      ],
      "metadata": {
        "id": "aXcqrUIevkWE"
      },
      "execution_count": null,
      "outputs": []
    },
    {
      "cell_type": "code",
      "source": [
        "# compare the results with a linear regression model\n",
        "from sklearn.linear_model import LinearRegression\n",
        "reg = LinearRegression().fit(x_train.reshape(-1, 1), y_train.reshape(-1, 1), )\n",
        "linear_reg_preds = reg.predict(x_pred.reshape(-1, 1))\n",
        "\n"
      ],
      "metadata": {
        "id": "0f_P3MgcwBLN"
      },
      "execution_count": null,
      "outputs": []
    },
    {
      "cell_type": "code",
      "source": [
        "# Plot the predictins from LWR and linear regresson\n",
        "plt.figure()\n",
        "plt.plot(x_train, y_train, 'bx', label='label')\n",
        "plt.plot(x_pred, lwr_preds, 'ro', label='LWR prediction')\n",
        "plt.plot(x_pred, linear_reg_preds, 'go', label='Linear regression prediction')\n",
        "plt.suptitle(\"Training Set\", fontsize=12)\n",
        "plt.legend(loc='upper left')"
      ],
      "metadata": {
        "id": "k28pTyCiw3Tw",
        "colab": {
          "base_uri": "https://localhost:8080/",
          "height": 497
        },
        "outputId": "7079cbef-c808-42be-adf5-9b3c85b488be"
      },
      "execution_count": null,
      "outputs": [
        {
          "output_type": "execute_result",
          "data": {
            "text/plain": [
              "<matplotlib.legend.Legend at 0x7f5d95aad910>"
            ]
          },
          "metadata": {},
          "execution_count": 29
        },
        {
          "output_type": "display_data",
          "data": {
            "text/plain": [
              "<Figure size 720x504 with 1 Axes>"
            ],
            "image/png": "[encoded data removed]"
          },
          "metadata": {
            "needs_background": "light"
          }
        }
      ]
    },
    {
      "cell_type": "code",
      "source": [
        "# How tau affect the sensitivity to outliers?\n",
        "# Try different values of tau and observe the effect on the prediction by plotting them as above\n",
        "lwr_preds = []\n",
        "model = LWR(0.1, 100)\n",
        "model.fit(x_train, y_train)\n",
        "for x in x_pred:\n",
        "  lwr_preds.append(model.predict(x.reshape(-1,1)))\n",
        "lwr_preds= np.reshape(y_preds,(-1,1))\n",
        "# compare the results with a linear regression model\n",
        "from sklearn.linear_model import LinearRegression\n",
        "reg = LinearRegression().fit(x_train.reshape(-1, 1), y_train.reshape(-1, 1), )\n",
        "linear_reg_preds = reg.predict(x_pred.reshape(-1, 1))\n",
        "# Write on observations as comment in the next cell\n",
        "# Plot the predictins from LWR and linear regresson\n",
        "plt.figure()\n",
        "plt.plot(x_train, y_train, 'bx', label='label')\n",
        "plt.plot(x_pred, lwr_preds, 'ro', label='LWR prediction')\n",
        "plt.plot(x_pred, linear_reg_preds, 'go', label='Linear regression prediction')\n",
        "plt.suptitle(\"Training Set\", fontsize=12)\n",
        "plt.legend(loc='upper left')"
      ],
      "metadata": {
        "id": "rRlQvDqGF5k4",
        "colab": {
          "base_uri": "https://localhost:8080/",
          "height": 497
        },
        "outputId": "9fe6d6c6-ae7e-459f-f70b-216f920df377"
      },
      "execution_count": null,
      "outputs": [
        {
          "output_type": "execute_result",
          "data": {
            "text/plain": [
              "<matplotlib.legend.Legend at 0x7f5d9587b070>"
            ]
          },
          "metadata": {},
          "execution_count": 33
        },
        {
          "output_type": "display_data",
          "data": {
            "text/plain": [
              "<Figure size 720x504 with 1 Axes>"
            ],
            "image/png": "[encoded data removed]"
          },
          "metadata": {
            "needs_background": "light"
          }
        }
      ]
    },
    {
      "cell_type": "code",
      "source": [],
      "metadata": {
        "id": "M9zPNnCdGCiF"
      },
      "execution_count": null,
      "outputs": []
    }
  ]
}